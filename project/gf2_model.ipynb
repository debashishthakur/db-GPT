{
 "cells": [
  {
   "cell_type": "code",
   "execution_count": null,
   "id": "efb32590",
   "metadata": {},
   "outputs": [],
   "source": [
    "import transformers\n",
    "import torch\n",
    "from transformers import AutoModelForSeq2SeqLM, AutoTokenizer\n",
    "# Load the model\n",
    "model_name = \"tscholak/1wnr382e\"\n",
    "model = AutoModelForSeq2SeqLM.from_pretrained(model_name)\n",
    "tokenizer = AutoTokenizer.from_pretrained(model_name)"
   ]
  },
  {
   "cell_type": "code",
   "execution_count": null,
   "id": "e08f8de7",
   "metadata": {},
   "outputs": [],
   "source": []
  },
  {
   "cell_type": "code",
   "execution_count": null,
   "id": "b3de90a9",
   "metadata": {},
   "outputs": [],
   "source": [
    "db_id = \"customers_card_transactions\"\n",
    "tables_and_columns = \"Accounts: account_id, customer_id, account_name, other_account_details | Customers: customer_id, customer_first_name, customer_last_name, customer_address, customer_phone, customer_email, other_customer_details | Customers_Cards: card_id, customer_id, card_type_code, card_number, date_valid_from, date_valid_to, other_card_details | Financial_Transactions: transaction_id, previous_transaction_id, account_id, card_id, transaction_type, transaction_date,transaction_amount, transaction_comment, other_transaction_details\"\n"
   ]
  },
  {
   "cell_type": "code",
   "execution_count": null,
   "id": "f7667c52",
   "metadata": {},
   "outputs": [],
   "source": [
    "# Generate SQL query\n",
    "def generate_sql_query(user_query: str):\n",
    "    input_text = f\"{user_query} | {db_id} | {tables_and_columns}\"\n",
    "    inputs = tokenizer(input_text, return_tensors=\"pt\")\n",
    "\n",
    "    \n",
    "    with torch.no_grad():\n",
    "        sql_query = model.generate(**inputs)\n",
    "        \n",
    "    decoded_query = tokenizer.batch_decode(sql_query)\n",
    "    decoded = decoded_query[0]  # Get the first element from the list\n",
    "    parts = decoded.split('|')\n",
    "    sql_query = parts[1].strip().replace('</s>', '')  # Get the text after \"|\", and remove leading/trailing whitespace\n",
    "    return sql_query\n"
   ]
  },
  {
   "cell_type": "code",
   "execution_count": null,
   "id": "e7543be2",
   "metadata": {},
   "outputs": [],
   "source": [
    "generate_sql_query(\"How many account do we have?\")"
   ]
  },
  {
   "cell_type": "code",
   "execution_count": null,
   "id": "a6fb23d6",
   "metadata": {},
   "outputs": [],
   "source": []
  },
  {
   "cell_type": "code",
   "execution_count": null,
   "id": "1273c935",
   "metadata": {},
   "outputs": [],
   "source": []
  }
 ],
 "metadata": {
  "kernelspec": {
   "display_name": "venv",
   "language": "python",
   "name": "venv"
  },
  "language_info": {
   "codemirror_mode": {
    "name": "ipython",
    "version": 3
   },
   "file_extension": ".py",
   "mimetype": "text/x-python",
   "name": "python",
   "nbconvert_exporter": "python",
   "pygments_lexer": "ipython3",
   "version": "3.11.3"
  }
 },
 "nbformat": 4,
 "nbformat_minor": 5
}
