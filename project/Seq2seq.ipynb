{
 "cells": [
  {
   "cell_type": "code",
   "execution_count": 2,
   "id": "cb9d7efa",
   "metadata": {},
   "outputs": [],
   "source": [
    "import tensorflow as tf\n",
    "from tensorflow.keras.layers import Embedding, LSTM, Dense\n",
    "from tensorflow.keras.models import Model\n",
    "import numpy as np\n",
    "import json"
   ]
  },
  {
   "cell_type": "code",
   "execution_count": 3,
   "id": "2abe3167",
   "metadata": {},
   "outputs": [],
   "source": [
    "# Define hyperparameters\n",
    "input_vocab_size = 116 # Vocabulary size for the source language\n",
    "output_vocab_size = 82 # Vocabulary size for the target language\n",
    "embedding_dim = 100  # Dimension of the GloVe embeddings\n",
    "hidden_units = 32 # Number of units in LSTM layers\n",
    "sequence_length = 37 # Maximum sequence length\n",
    "batch_size = 32 # Batch size\n",
    "num_epochs = 200 # Number of training epochs"
   ]
  },
  {
   "cell_type": "code",
   "execution_count": 4,
   "id": "6ea204c2",
   "metadata": {},
   "outputs": [],
   "source": [
    "glove_path = 'GloVe/glove.6B.100d.txt'  # Adjust the path to your downloaded GloVe file\n",
    "embedding_matrix = {}  # Create an empty dictionary to store the embeddings"
   ]
  },
  {
   "cell_type": "code",
   "execution_count": 5,
   "id": "82d53197",
   "metadata": {},
   "outputs": [
    {
     "data": {
      "text/plain": [
       "{}"
      ]
     },
     "execution_count": 5,
     "metadata": {},
     "output_type": "execute_result"
    }
   ],
   "source": [
    "embedding_matrix"
   ]
  },
  {
   "cell_type": "code",
   "execution_count": 6,
   "id": "2be4126c",
   "metadata": {},
   "outputs": [],
   "source": [
    "with open(glove_path, 'r', encoding='utf-8') as file:\n",
    "    for line in file:\n",
    "        values = line.split()\n",
    "        word = values[0]\n",
    "        coefs = np.asarray(values[1:], dtype='float32')\n",
    "        embedding_matrix[word] = coefs #(coeff == Vectors)"
   ]
  },
  {
   "cell_type": "code",
   "execution_count": 7,
   "id": "9af80432",
   "metadata": {},
   "outputs": [],
   "source": [
    "# Create an embedding matrix for the source and target languages\n",
    "source_embedding_matrix = np.zeros((input_vocab_size, embedding_dim))\n",
    "target_embedding_matrix = np.zeros((output_vocab_size, embedding_dim))"
   ]
  },
  {
   "cell_type": "code",
   "execution_count": 8,
   "id": "3993fd14",
   "metadata": {},
   "outputs": [
    {
     "data": {
      "text/plain": [
       "array([[0., 0., 0., ..., 0., 0., 0.],\n",
       "       [0., 0., 0., ..., 0., 0., 0.],\n",
       "       [0., 0., 0., ..., 0., 0., 0.],\n",
       "       ...,\n",
       "       [0., 0., 0., ..., 0., 0., 0.],\n",
       "       [0., 0., 0., ..., 0., 0., 0.],\n",
       "       [0., 0., 0., ..., 0., 0., 0.]])"
      ]
     },
     "execution_count": 8,
     "metadata": {},
     "output_type": "execute_result"
    }
   ],
   "source": [
    "source_embedding_matrix"
   ]
  },
  {
   "cell_type": "code",
   "execution_count": 9,
   "id": "c79e7d93",
   "metadata": {},
   "outputs": [],
   "source": [
    "##load the dataset\n",
    "with open('card.json', 'r') as json_file:\n",
    "    dataset = json.load(json_file)"
   ]
  },
  {
   "cell_type": "code",
   "execution_count": 10,
   "id": "a8570a7f",
   "metadata": {},
   "outputs": [],
   "source": [
    "#mapping input and output sequences to integers \n",
    "#input sequence = source_tokenizer\n",
    "#output sequence = target_tokenizer\n",
    "\n",
    "index_s = 3\n",
    "index_t = 3\n",
    "source_tokenizer = {'<PAD>':0,\n",
    "                   '<start>':1,\n",
    "                   '<end>':2}\n",
    "target_tokenizer = {'<PAD>':0,\n",
    "                   '<start>':1,\n",
    "                   '<end>':2}\n",
    "\n",
    "\n",
    "for i in dataset:\n",
    "    question_toks = i[\"question_toks\"]\n",
    "    # print(query_toks)\n",
    "    for j in question_toks:\n",
    "        # print(j)\n",
    "        \n",
    "        if j not in source_tokenizer:\n",
    "            source_tokenizer[j] = index_s\n",
    "            index_s += 1\n",
    "# print((frequency))\n",
    "for i in dataset:\n",
    "    query_toks = i[\"query_toks\"]\n",
    "    # print(query_toks)\n",
    "    for j in query_toks:\n",
    "        # print(j)\n",
    "        \n",
    "        if j not in target_tokenizer:\n",
    "            target_tokenizer[j] = index_t\n",
    "            index_t += 1"
   ]
  },
  {
   "cell_type": "code",
   "execution_count": 11,
   "id": "22c2b0b3",
   "metadata": {},
   "outputs": [
    {
     "data": {
      "text/plain": [
       "{'<PAD>': 0,\n",
       " '<start>': 1,\n",
       " '<end>': 2,\n",
       " 'How': 3,\n",
       " 'many': 4,\n",
       " 'accounts': 5,\n",
       " 'do': 6,\n",
       " 'we': 7,\n",
       " 'have': 8,\n",
       " '?': 9,\n",
       " 'Count': 10,\n",
       " 'the': 11,\n",
       " 'number': 12,\n",
       " 'of': 13,\n",
       " '.': 14,\n",
       " 'Show': 15,\n",
       " 'ids': 16,\n",
       " ',': 17,\n",
       " 'customer': 18,\n",
       " 'names': 19,\n",
       " 'for': 20,\n",
       " 'all': 21,\n",
       " 'What': 22,\n",
       " 'are': 23,\n",
       " 'account': 24,\n",
       " 'and': 25,\n",
       " 'other': 26,\n",
       " 'details': 27,\n",
       " 'with': 28,\n",
       " 'name': 29,\n",
       " '338': 30,\n",
       " 'is': 31,\n",
       " 'first': 32,\n",
       " 'last': 33,\n",
       " 'phone': 34,\n",
       " '162': 35,\n",
       " 'Give': 36,\n",
       " 'full': 37,\n",
       " 'who': 38,\n",
       " 'has': 39,\n",
       " 'does': 40,\n",
       " 'Art': 41,\n",
       " 'Turcotte': 42,\n",
       " 'Return': 43,\n",
       " 'that': 44,\n",
       " 'each': 45,\n",
       " 'there': 46,\n",
       " 'id': 47,\n",
       " 'most': 48,\n",
       " 'how': 49,\n",
       " 'this': 50,\n",
       " 'person': 51,\n",
       " 'least': 52,\n",
       " 'fewest': 53,\n",
       " 'customers': 54,\n",
       " 'without': 55,\n",
       " 'an': 56,\n",
       " 'not': 57,\n",
       " 'any': 58,\n",
       " 'distinct': 59,\n",
       " 'hold': 60,\n",
       " 'phones': 61,\n",
       " 'email': 62,\n",
       " 'Aniyah': 63,\n",
       " 'Feest': 64,\n",
       " 'cards': 65,\n",
       " 'card': 66,\n",
       " 'type': 67,\n",
       " 'codes': 68,\n",
       " 'numbers': 69,\n",
       " 'types': 70,\n",
       " 'date': 71,\n",
       " 'valid': 72,\n",
       " 'from': 73,\n",
       " 'to': 74,\n",
       " \"'4560596484842\": 75,\n",
       " \"'\": 76,\n",
       " 'dates': 77,\n",
       " '4560596484842': 78,\n",
       " 'debit': 79,\n",
       " 'Debit': 80,\n",
       " 'credit': 81,\n",
       " 'Blanche': 82,\n",
       " 'Huels': 83,\n",
       " 'owned': 84,\n",
       " 'by': 85,\n",
       " 'different': 86,\n",
       " 'one': 87,\n",
       " 'he': 88,\n",
       " 'as': 89,\n",
       " 'well': 90,\n",
       " 'at': 91,\n",
       " 'two': 92,\n",
       " 'or': 93,\n",
       " 'more': 94,\n",
       " 'in': 95,\n",
       " 'code': 96,\n",
       " 'common': 97,\n",
       " '5': 98,\n",
       " 'holding': 99,\n",
       " 'firstname': 100,\n",
       " 'a': 101,\n",
       " 'transaction': 102,\n",
       " 'transactions': 103,\n",
       " 'average': 104,\n",
       " 'total': 105,\n",
       " 'amount': 106,\n",
       " 'been': 107,\n",
       " 'made': 108,\n",
       " 'taken': 109,\n",
       " 'place': 110,\n",
       " 'processed': 111,\n",
       " 'greatest': 112,\n",
       " 'highest': 113,\n",
       " 'financial': 114,\n",
       " 'correspond': 115}"
      ]
     },
     "execution_count": 11,
     "metadata": {},
     "output_type": "execute_result"
    }
   ],
   "source": [
    "source_tokenizer"
   ]
  },
  {
   "cell_type": "code",
   "execution_count": 12,
   "id": "b7c1ec19",
   "metadata": {},
   "outputs": [
    {
     "data": {
      "text/plain": [
       "{'<PAD>': 0,\n",
       " '<start>': 1,\n",
       " '<end>': 2,\n",
       " 'SELECT': 3,\n",
       " 'count': 4,\n",
       " '(': 5,\n",
       " '*': 6,\n",
       " ')': 7,\n",
       " 'FROM': 8,\n",
       " 'Accounts': 9,\n",
       " 'account_id': 10,\n",
       " ',': 11,\n",
       " 'customer_id': 12,\n",
       " 'account_name': 13,\n",
       " 'other_account_details': 14,\n",
       " 'WHERE': 15,\n",
       " '=': 16,\n",
       " '``': 17,\n",
       " '338': 18,\n",
       " \"''\": 19,\n",
       " 'T2.customer_first_name': 20,\n",
       " 'T2.customer_last_name': 21,\n",
       " 'T2.customer_phone': 22,\n",
       " 'AS': 23,\n",
       " 'T1': 24,\n",
       " 'JOIN': 25,\n",
       " 'Customers': 26,\n",
       " 'T2': 27,\n",
       " 'ON': 28,\n",
       " 'T1.customer_id': 29,\n",
       " 'T2.customer_id': 30,\n",
       " 'T1.account_name': 31,\n",
       " '162': 32,\n",
       " 'Art': 33,\n",
       " 'AND': 34,\n",
       " 'Turcotte': 35,\n",
       " 'GROUP': 36,\n",
       " 'BY': 37,\n",
       " 'ORDER': 38,\n",
       " 'DESC': 39,\n",
       " 'LIMIT': 40,\n",
       " '1': 41,\n",
       " 'ASC': 42,\n",
       " 'NOT': 43,\n",
       " 'IN': 44,\n",
       " 'customer_first_name': 45,\n",
       " 'customer_last_name': 46,\n",
       " 'EXCEPT': 47,\n",
       " 'T1.customer_first_name': 48,\n",
       " 'T1.customer_last_name': 49,\n",
       " 'DISTINCT': 50,\n",
       " 'customer_phone': 51,\n",
       " 'customer_email': 52,\n",
       " 'Aniyah': 53,\n",
       " 'Feest': 54,\n",
       " 'Customers_cards': 55,\n",
       " 'card_id': 56,\n",
       " 'card_type_code': 57,\n",
       " 'card_number': 58,\n",
       " 'date_valid_from': 59,\n",
       " 'date_valid_to': 60,\n",
       " '4560596484842': 61,\n",
       " 'T1.card_number': 62,\n",
       " 'Debit': 63,\n",
       " 'Blanche': 64,\n",
       " 'Huels': 65,\n",
       " 'T1.card_type_code': 66,\n",
       " 'Credit': 67,\n",
       " 'HAVING': 68,\n",
       " '>': 69,\n",
       " '2': 70,\n",
       " '5': 71,\n",
       " 'Customers_Cards': 72,\n",
       " 'transaction_type': 73,\n",
       " 'Financial_Transactions': 74,\n",
       " 'avg': 75,\n",
       " 'transaction_amount': 76,\n",
       " 'sum': 77,\n",
       " 'Financial_transactions': 78,\n",
       " 'T2.card_type_code': 79,\n",
       " 'T1.card_id': 80,\n",
       " 'T2.card_id': 81}"
      ]
     },
     "execution_count": 12,
     "metadata": {},
     "output_type": "execute_result"
    }
   ],
   "source": [
    "target_tokenizer_rev = {v: k for k, v in target_tokenizer.items()}\n",
    "target_tokenizer"
   ]
  },
  {
   "cell_type": "code",
   "execution_count": 13,
   "id": "127a0755",
   "metadata": {},
   "outputs": [],
   "source": [
    "for word, i in source_tokenizer.items():\n",
    "    embedding_vector = embedding_matrix.get(word)\n",
    "    if embedding_vector is not None:\n",
    "        source_embedding_matrix[i] = embedding_vector\n",
    "\n",
    "for word, i in target_tokenizer.items():\n",
    "    embedding_vector = embedding_matrix.get(word)\n",
    "    if embedding_vector is not None:\n",
    "        target_embedding_matrix[i] = embedding_vector"
   ]
  },
  {
   "cell_type": "code",
   "execution_count": 14,
   "id": "59d1f4f3",
   "metadata": {},
   "outputs": [],
   "source": [
    "question_tokens = [example[\"question_toks\"] for example in dataset]\n",
    "query_tokens = [example[\"query_toks\"] for example in dataset]\n",
    "\n",
    "encoder_input_data_nopad = [[1] + [source_tokenizer[word] for word in sentence] + [2] for sentence in question_tokens]\n",
    "\n",
    "\n",
    "decoder_input_data_nopad = [[1] + [target_tokenizer[word] for word in sentence] + [2] for sentence in query_tokens]\n"
   ]
  },
  {
   "cell_type": "code",
   "execution_count": null,
   "id": "8d6be028",
   "metadata": {},
   "outputs": [],
   "source": []
  },
  {
   "cell_type": "code",
   "execution_count": 15,
   "id": "91f97e47",
   "metadata": {},
   "outputs": [],
   "source": [
    "# Pad the sequences to a consistent length\n",
    "def pad_sequences(sequences, max_length):\n",
    "    padded_sequences = []\n",
    "    for sequence in sequences:\n",
    "        if len(sequence) < max_length:\n",
    "            padded_sequence = sequence + [0] * (max_length - len(sequence))\n",
    "        else:\n",
    "            padded_sequence = sequence[:max_length]\n",
    "        padded_sequences.append(padded_sequence)\n",
    "    return padded_sequences\n",
    "\n",
    "# Pad the encoder and decoder inputs\n",
    "encoder_input_data = pad_sequences(encoder_input_data_nopad, sequence_length)\n",
    "decoder_input_data = pad_sequences(decoder_input_data_nopad, sequence_length)\n",
    "encoder_input_data = np.array(encoder_input_data)\n",
    "decoder_input_data = np.array(decoder_input_data)"
   ]
  },
  {
   "cell_type": "code",
   "execution_count": 16,
   "id": "786ede1e",
   "metadata": {},
   "outputs": [
    {
     "data": {
      "text/plain": [
       "array([1, 3, 4, 5, 6, 7, 8, 9, 2, 0, 0, 0, 0, 0, 0, 0, 0, 0, 0, 0, 0, 0,\n",
       "       0, 0, 0, 0, 0, 0, 0, 0, 0, 0, 0, 0, 0, 0, 0])"
      ]
     },
     "execution_count": 16,
     "metadata": {},
     "output_type": "execute_result"
    }
   ],
   "source": [
    "decoder_input_data[1]"
   ]
  },
  {
   "cell_type": "code",
   "execution_count": 17,
   "id": "7740a89c",
   "metadata": {},
   "outputs": [
    {
     "data": {
      "text/plain": [
       "array([ 1, 10, 11, 12, 13,  5, 14,  2,  0,  0,  0,  0,  0,  0,  0,  0,  0,\n",
       "        0,  0,  0,  0,  0,  0,  0,  0,  0,  0,  0,  0,  0,  0,  0,  0,  0,\n",
       "        0,  0,  0])"
      ]
     },
     "execution_count": 17,
     "metadata": {},
     "output_type": "execute_result"
    }
   ],
   "source": [
    "encoder_input_data[1]"
   ]
  },
  {
   "cell_type": "code",
   "execution_count": 18,
   "id": "9638ca30",
   "metadata": {},
   "outputs": [],
   "source": [
    "#decoder_target_data\n",
    "target_vocab = {\n",
    "    0 : 0\n",
    "}\n",
    "\n",
    "decoder_target_data = np.zeros_like(decoder_input_data)\n",
    "decoder_target_data[:, :-1] = decoder_input_data[:, 1:]\n",
    "decoder_target_data[:, -1] = target_vocab[0]"
   ]
  },
  {
   "cell_type": "code",
   "execution_count": 19,
   "id": "48a5ffbe",
   "metadata": {},
   "outputs": [
    {
     "data": {
      "text/plain": [
       "array([3, 4, 5, 6, 7, 8, 9, 2, 0, 0, 0, 0, 0, 0, 0, 0, 0, 0, 0, 0, 0, 0,\n",
       "       0, 0, 0, 0, 0, 0, 0, 0, 0, 0, 0, 0, 0, 0, 0])"
      ]
     },
     "execution_count": 19,
     "metadata": {},
     "output_type": "execute_result"
    }
   ],
   "source": [
    "decoder_target_data[1]"
   ]
  },
  {
   "cell_type": "code",
   "execution_count": 20,
   "id": "87ab353b",
   "metadata": {},
   "outputs": [],
   "source": [
    "# Define the encoder\n",
    "encoder_inputs = tf.keras.layers.Input(shape=(sequence_length,))\n",
    "encoder_embedding = Embedding(input_vocab_size, embedding_dim, weights=[source_embedding_matrix], trainable=False)(encoder_inputs)\n",
    "encoder_lstm = LSTM(hidden_units, return_state=True)\n",
    "encoder_outputs, state_h, state_c = encoder_lstm(encoder_embedding)\n",
    "encoder_states = [state_h, state_c]"
   ]
  },
  {
   "cell_type": "code",
   "execution_count": 21,
   "id": "9b5794be",
   "metadata": {},
   "outputs": [],
   "source": [
    "# Define the decoder\n",
    "decoder_inputs = tf.keras.layers.Input(shape=(sequence_length,))\n",
    "decoder_embedding = Embedding(output_vocab_size, embedding_dim, weights=[target_embedding_matrix], trainable=False)(decoder_inputs)\n",
    "decoder_lstm = LSTM(hidden_units, return_sequences=True, return_state=True)\n",
    "decoder_outputs, _, _ = decoder_lstm(decoder_embedding, initial_state=encoder_states)\n",
    "decoder_dense = Dense(output_vocab_size, activation='softmax')\n",
    "output = decoder_dense(decoder_outputs)"
   ]
  },
  {
   "cell_type": "code",
   "execution_count": 22,
   "id": "7934e29d",
   "metadata": {},
   "outputs": [],
   "source": [
    "# Build and compile the model\n",
    "model = Model([encoder_inputs, decoder_inputs], output)\n",
    "model.compile(optimizer='adam', loss='sparse_categorical_crossentropy', metrics=['accuracy'])"
   ]
  },
  {
   "cell_type": "code",
   "execution_count": 23,
   "id": "dffdea0c",
   "metadata": {},
   "outputs": [
    {
     "name": "stdout",
     "output_type": "stream",
     "text": [
      "Model: \"model\"\n",
      "__________________________________________________________________________________________________\n",
      " Layer (type)                Output Shape                 Param #   Connected to                  \n",
      "==================================================================================================\n",
      " input_1 (InputLayer)        [(None, 37)]                 0         []                            \n",
      "                                                                                                  \n",
      " input_2 (InputLayer)        [(None, 37)]                 0         []                            \n",
      "                                                                                                  \n",
      " embedding (Embedding)       (None, 37, 100)              11600     ['input_1[0][0]']             \n",
      "                                                                                                  \n",
      " embedding_1 (Embedding)     (None, 37, 100)              8200      ['input_2[0][0]']             \n",
      "                                                                                                  \n",
      " lstm (LSTM)                 [(None, 32),                 17024     ['embedding[0][0]']           \n",
      "                              (None, 32),                                                         \n",
      "                              (None, 32)]                                                         \n",
      "                                                                                                  \n",
      " lstm_1 (LSTM)               [(None, 37, 32),             17024     ['embedding_1[0][0]',         \n",
      "                              (None, 32),                            'lstm[0][1]',                \n",
      "                              (None, 32)]                            'lstm[0][2]']                \n",
      "                                                                                                  \n",
      " dense (Dense)               (None, 37, 82)               2706      ['lstm_1[0][0]']              \n",
      "                                                                                                  \n",
      "==================================================================================================\n",
      "Total params: 56554 (220.91 KB)\n",
      "Trainable params: 36754 (143.57 KB)\n",
      "Non-trainable params: 19800 (77.34 KB)\n",
      "__________________________________________________________________________________________________\n"
     ]
    }
   ],
   "source": [
    "model.summary()"
   ]
  },
  {
   "cell_type": "code",
   "execution_count": 24,
   "id": "bc454017",
   "metadata": {},
   "outputs": [
    {
     "name": "stdout",
     "output_type": "stream",
     "text": [
      "(80, 37)\n",
      "(80, 37)\n",
      "(80, 37)\n"
     ]
    }
   ],
   "source": [
    "print(decoder_target_data.shape)\n",
    "print(encoder_input_data.shape)\n",
    "print(decoder_input_data.shape)"
   ]
  },
  {
   "cell_type": "code",
   "execution_count": 25,
   "id": "0b58a6f8",
   "metadata": {},
   "outputs": [
    {
     "name": "stdout",
     "output_type": "stream",
     "text": [
      "Epoch 1/200\n",
      "2/2 [==============================] - 6s 1s/step - loss: 4.3911 - accuracy: 0.0921 - val_loss: 4.3736 - val_accuracy: 0.3750\n",
      "Epoch 2/200\n",
      "2/2 [==============================] - 0s 61ms/step - loss: 4.3630 - accuracy: 0.3391 - val_loss: 4.3460 - val_accuracy: 0.6689\n",
      "Epoch 3/200\n",
      "2/2 [==============================] - 0s 58ms/step - loss: 4.3320 - accuracy: 0.5106 - val_loss: 4.3141 - val_accuracy: 0.7027\n",
      "Epoch 4/200\n",
      "2/2 [==============================] - 0s 69ms/step - loss: 4.2956 - accuracy: 0.5600 - val_loss: 4.2763 - val_accuracy: 0.7061\n",
      "Epoch 5/200\n",
      "2/2 [==============================] - 0s 61ms/step - loss: 4.2528 - accuracy: 0.5684 - val_loss: 4.2300 - val_accuracy: 0.6943\n",
      "Epoch 6/200\n",
      "2/2 [==============================] - 0s 56ms/step - loss: 4.2023 - accuracy: 0.5655 - val_loss: 4.1720 - val_accuracy: 0.6892\n",
      "Epoch 7/200\n",
      "2/2 [==============================] - 0s 65ms/step - loss: 4.1415 - accuracy: 0.5612 - val_loss: 4.0981 - val_accuracy: 0.6892\n",
      "Epoch 8/200\n",
      "2/2 [==============================] - 0s 58ms/step - loss: 4.0648 - accuracy: 0.5574 - val_loss: 4.0029 - val_accuracy: 0.6926\n",
      "Epoch 9/200\n",
      "2/2 [==============================] - 0s 65ms/step - loss: 3.9749 - accuracy: 0.5562 - val_loss: 3.8812 - val_accuracy: 0.6926\n",
      "Epoch 10/200\n",
      "2/2 [==============================] - 0s 75ms/step - loss: 3.8621 - accuracy: 0.5515 - val_loss: 3.7319 - val_accuracy: 0.6824\n",
      "Epoch 11/200\n",
      "2/2 [==============================] - 0s 49ms/step - loss: 3.7341 - accuracy: 0.5465 - val_loss: 3.5623 - val_accuracy: 0.6824\n",
      "Epoch 12/200\n",
      "2/2 [==============================] - 0s 53ms/step - loss: 3.5966 - accuracy: 0.5422 - val_loss: 3.3836 - val_accuracy: 0.6858\n",
      "Epoch 13/200\n",
      "2/2 [==============================] - 0s 55ms/step - loss: 3.4617 - accuracy: 0.5389 - val_loss: 3.2043 - val_accuracy: 0.6858\n",
      "Epoch 14/200\n",
      "2/2 [==============================] - 0s 58ms/step - loss: 3.3371 - accuracy: 0.5363 - val_loss: 3.0414 - val_accuracy: 0.6824\n",
      "Epoch 15/200\n",
      "2/2 [==============================] - 0s 59ms/step - loss: 3.2223 - accuracy: 0.5355 - val_loss: 2.9017 - val_accuracy: 0.6824\n",
      "Epoch 16/200\n",
      "2/2 [==============================] - 0s 58ms/step - loss: 3.1247 - accuracy: 0.5355 - val_loss: 2.7780 - val_accuracy: 0.6824\n",
      "Epoch 17/200\n",
      "2/2 [==============================] - 0s 60ms/step - loss: 3.0331 - accuracy: 0.5351 - val_loss: 2.6658 - val_accuracy: 0.6791\n",
      "Epoch 18/200\n",
      "2/2 [==============================] - 0s 63ms/step - loss: 2.9471 - accuracy: 0.5329 - val_loss: 2.5606 - val_accuracy: 0.6791\n",
      "Epoch 19/200\n",
      "2/2 [==============================] - 0s 84ms/step - loss: 2.8641 - accuracy: 0.5329 - val_loss: 2.4609 - val_accuracy: 0.6791\n",
      "Epoch 20/200\n",
      "2/2 [==============================] - 0s 62ms/step - loss: 2.7851 - accuracy: 0.5372 - val_loss: 2.3661 - val_accuracy: 0.6858\n",
      "Epoch 21/200\n",
      "2/2 [==============================] - 0s 61ms/step - loss: 2.7140 - accuracy: 0.5405 - val_loss: 2.2757 - val_accuracy: 0.6858\n",
      "Epoch 22/200\n",
      "2/2 [==============================] - 0s 60ms/step - loss: 2.6415 - accuracy: 0.5405 - val_loss: 2.1920 - val_accuracy: 0.6858\n",
      "Epoch 23/200\n",
      "2/2 [==============================] - 0s 59ms/step - loss: 2.5787 - accuracy: 0.5405 - val_loss: 2.1140 - val_accuracy: 0.6858\n",
      "Epoch 24/200\n",
      "2/2 [==============================] - 0s 60ms/step - loss: 2.5190 - accuracy: 0.5410 - val_loss: 2.0430 - val_accuracy: 0.6875\n",
      "Epoch 25/200\n",
      "2/2 [==============================] - 0s 57ms/step - loss: 2.4643 - accuracy: 0.5410 - val_loss: 1.9787 - val_accuracy: 0.6909\n",
      "Epoch 26/200\n",
      "2/2 [==============================] - 0s 60ms/step - loss: 2.4135 - accuracy: 0.5427 - val_loss: 1.9218 - val_accuracy: 0.6959\n",
      "Epoch 27/200\n",
      "2/2 [==============================] - 0s 73ms/step - loss: 2.3686 - accuracy: 0.5431 - val_loss: 1.8710 - val_accuracy: 0.6926\n",
      "Epoch 28/200\n",
      "2/2 [==============================] - 0s 69ms/step - loss: 2.3277 - accuracy: 0.5414 - val_loss: 1.8256 - val_accuracy: 0.6926\n",
      "Epoch 29/200\n",
      "2/2 [==============================] - 0s 61ms/step - loss: 2.2893 - accuracy: 0.5494 - val_loss: 1.7858 - val_accuracy: 0.6976\n",
      "Epoch 30/200\n",
      "2/2 [==============================] - 0s 62ms/step - loss: 2.2542 - accuracy: 0.5541 - val_loss: 1.7514 - val_accuracy: 0.7010\n",
      "Epoch 31/200\n",
      "2/2 [==============================] - 0s 77ms/step - loss: 2.2218 - accuracy: 0.5583 - val_loss: 1.7227 - val_accuracy: 0.7128\n",
      "Epoch 32/200\n",
      "2/2 [==============================] - 0s 60ms/step - loss: 2.1922 - accuracy: 0.5617 - val_loss: 1.6997 - val_accuracy: 0.7145\n",
      "Epoch 33/200\n",
      "2/2 [==============================] - 0s 65ms/step - loss: 2.1663 - accuracy: 0.5655 - val_loss: 1.6806 - val_accuracy: 0.7145\n",
      "Epoch 34/200\n",
      "2/2 [==============================] - 0s 62ms/step - loss: 2.1421 - accuracy: 0.5650 - val_loss: 1.6637 - val_accuracy: 0.7162\n",
      "Epoch 35/200\n",
      "2/2 [==============================] - 0s 59ms/step - loss: 2.1203 - accuracy: 0.5638 - val_loss: 1.6496 - val_accuracy: 0.7162\n",
      "Epoch 36/200\n",
      "2/2 [==============================] - 0s 61ms/step - loss: 2.0997 - accuracy: 0.5646 - val_loss: 1.6362 - val_accuracy: 0.7179\n",
      "Epoch 37/200\n",
      "2/2 [==============================] - 0s 66ms/step - loss: 2.0803 - accuracy: 0.5646 - val_loss: 1.6229 - val_accuracy: 0.7179\n",
      "Epoch 38/200\n",
      "2/2 [==============================] - 0s 62ms/step - loss: 2.0619 - accuracy: 0.5680 - val_loss: 1.6104 - val_accuracy: 0.7179\n",
      "Epoch 39/200\n",
      "2/2 [==============================] - 0s 65ms/step - loss: 2.0450 - accuracy: 0.5684 - val_loss: 1.5982 - val_accuracy: 0.7179\n",
      "Epoch 40/200\n",
      "2/2 [==============================] - 0s 65ms/step - loss: 2.0287 - accuracy: 0.5693 - val_loss: 1.5869 - val_accuracy: 0.7213\n",
      "Epoch 41/200\n",
      "2/2 [==============================] - 0s 67ms/step - loss: 2.0131 - accuracy: 0.5705 - val_loss: 1.5778 - val_accuracy: 0.7264\n",
      "Epoch 42/200\n",
      "2/2 [==============================] - 0s 61ms/step - loss: 1.9982 - accuracy: 0.5718 - val_loss: 1.5696 - val_accuracy: 0.7264\n",
      "Epoch 43/200\n",
      "2/2 [==============================] - 0s 62ms/step - loss: 1.9842 - accuracy: 0.5718 - val_loss: 1.5623 - val_accuracy: 0.7247\n",
      "Epoch 44/200\n",
      "2/2 [==============================] - 0s 58ms/step - loss: 1.9709 - accuracy: 0.5718 - val_loss: 1.5559 - val_accuracy: 0.7247\n",
      "Epoch 45/200\n",
      "2/2 [==============================] - 0s 59ms/step - loss: 1.9583 - accuracy: 0.5722 - val_loss: 1.5496 - val_accuracy: 0.7247\n",
      "Epoch 46/200\n",
      "2/2 [==============================] - 0s 60ms/step - loss: 1.9455 - accuracy: 0.5726 - val_loss: 1.5432 - val_accuracy: 0.7247\n",
      "Epoch 47/200\n",
      "2/2 [==============================] - 0s 69ms/step - loss: 1.9334 - accuracy: 0.5726 - val_loss: 1.5373 - val_accuracy: 0.7247\n",
      "Epoch 48/200\n",
      "2/2 [==============================] - 0s 63ms/step - loss: 1.9215 - accuracy: 0.5739 - val_loss: 1.5320 - val_accuracy: 0.7247\n",
      "Epoch 49/200\n",
      "2/2 [==============================] - 0s 62ms/step - loss: 1.9099 - accuracy: 0.5773 - val_loss: 1.5270 - val_accuracy: 0.7247\n",
      "Epoch 50/200\n",
      "2/2 [==============================] - 0s 62ms/step - loss: 1.8989 - accuracy: 0.5785 - val_loss: 1.5231 - val_accuracy: 0.7247\n",
      "Epoch 51/200\n",
      "2/2 [==============================] - 0s 63ms/step - loss: 1.8880 - accuracy: 0.5836 - val_loss: 1.5192 - val_accuracy: 0.7247\n",
      "Epoch 52/200\n",
      "2/2 [==============================] - 0s 61ms/step - loss: 1.8767 - accuracy: 0.5866 - val_loss: 1.5138 - val_accuracy: 0.7247\n",
      "Epoch 53/200\n",
      "2/2 [==============================] - 0s 59ms/step - loss: 1.8660 - accuracy: 0.5883 - val_loss: 1.5087 - val_accuracy: 0.7247\n",
      "Epoch 54/200\n",
      "2/2 [==============================] - 0s 61ms/step - loss: 1.8559 - accuracy: 0.5921 - val_loss: 1.5046 - val_accuracy: 0.7247\n",
      "Epoch 55/200\n",
      "2/2 [==============================] - 0s 69ms/step - loss: 1.8455 - accuracy: 0.5929 - val_loss: 1.5007 - val_accuracy: 0.7247\n",
      "Epoch 56/200\n",
      "2/2 [==============================] - 0s 60ms/step - loss: 1.8353 - accuracy: 0.5933 - val_loss: 1.4967 - val_accuracy: 0.7247\n",
      "Epoch 57/200\n",
      "2/2 [==============================] - 0s 57ms/step - loss: 1.8252 - accuracy: 0.5959 - val_loss: 1.4926 - val_accuracy: 0.7247\n",
      "Epoch 58/200\n",
      "2/2 [==============================] - 0s 65ms/step - loss: 1.8152 - accuracy: 0.5967 - val_loss: 1.4887 - val_accuracy: 0.7297\n",
      "Epoch 59/200\n"
     ]
    },
    {
     "name": "stdout",
     "output_type": "stream",
     "text": [
      "2/2 [==============================] - 0s 66ms/step - loss: 1.8056 - accuracy: 0.5984 - val_loss: 1.4855 - val_accuracy: 0.7297\n",
      "Epoch 60/200\n",
      "2/2 [==============================] - 0s 61ms/step - loss: 1.7957 - accuracy: 0.6005 - val_loss: 1.4815 - val_accuracy: 0.7314\n",
      "Epoch 61/200\n",
      "2/2 [==============================] - 0s 61ms/step - loss: 1.7859 - accuracy: 0.6022 - val_loss: 1.4785 - val_accuracy: 0.7314\n",
      "Epoch 62/200\n",
      "2/2 [==============================] - 0s 65ms/step - loss: 1.7764 - accuracy: 0.6026 - val_loss: 1.4747 - val_accuracy: 0.7348\n",
      "Epoch 63/200\n",
      "2/2 [==============================] - 0s 62ms/step - loss: 1.7677 - accuracy: 0.6035 - val_loss: 1.4726 - val_accuracy: 0.7348\n",
      "Epoch 64/200\n",
      "2/2 [==============================] - 0s 67ms/step - loss: 1.7578 - accuracy: 0.6035 - val_loss: 1.4694 - val_accuracy: 0.7348\n",
      "Epoch 65/200\n",
      "2/2 [==============================] - 0s 69ms/step - loss: 1.7486 - accuracy: 0.6035 - val_loss: 1.4654 - val_accuracy: 0.7348\n",
      "Epoch 66/200\n",
      "2/2 [==============================] - 0s 64ms/step - loss: 1.7394 - accuracy: 0.6047 - val_loss: 1.4614 - val_accuracy: 0.7348\n",
      "Epoch 67/200\n",
      "2/2 [==============================] - 0s 62ms/step - loss: 1.7305 - accuracy: 0.6060 - val_loss: 1.4581 - val_accuracy: 0.7348\n",
      "Epoch 68/200\n",
      "2/2 [==============================] - 0s 59ms/step - loss: 1.7213 - accuracy: 0.6077 - val_loss: 1.4541 - val_accuracy: 0.7348\n",
      "Epoch 69/200\n",
      "2/2 [==============================] - 0s 60ms/step - loss: 1.7125 - accuracy: 0.6106 - val_loss: 1.4506 - val_accuracy: 0.7348\n",
      "Epoch 70/200\n",
      "2/2 [==============================] - 0s 56ms/step - loss: 1.7040 - accuracy: 0.6178 - val_loss: 1.4474 - val_accuracy: 0.7348\n",
      "Epoch 71/200\n",
      "2/2 [==============================] - 0s 62ms/step - loss: 1.6951 - accuracy: 0.6220 - val_loss: 1.4433 - val_accuracy: 0.7348\n",
      "Epoch 72/200\n",
      "2/2 [==============================] - 0s 57ms/step - loss: 1.6865 - accuracy: 0.6254 - val_loss: 1.4399 - val_accuracy: 0.7348\n",
      "Epoch 73/200\n",
      "2/2 [==============================] - 0s 65ms/step - loss: 1.6775 - accuracy: 0.6288 - val_loss: 1.4355 - val_accuracy: 0.7365\n",
      "Epoch 74/200\n",
      "2/2 [==============================] - 0s 68ms/step - loss: 1.6688 - accuracy: 0.6309 - val_loss: 1.4324 - val_accuracy: 0.7365\n",
      "Epoch 75/200\n",
      "2/2 [==============================] - 0s 58ms/step - loss: 1.6599 - accuracy: 0.6309 - val_loss: 1.4293 - val_accuracy: 0.7365\n",
      "Epoch 76/200\n",
      "2/2 [==============================] - 0s 62ms/step - loss: 1.6514 - accuracy: 0.6339 - val_loss: 1.4254 - val_accuracy: 0.7382\n",
      "Epoch 77/200\n",
      "2/2 [==============================] - 0s 65ms/step - loss: 1.6432 - accuracy: 0.6351 - val_loss: 1.4226 - val_accuracy: 0.7416\n",
      "Epoch 78/200\n",
      "2/2 [==============================] - 0s 60ms/step - loss: 1.6344 - accuracy: 0.6377 - val_loss: 1.4200 - val_accuracy: 0.7432\n",
      "Epoch 79/200\n",
      "2/2 [==============================] - 0s 61ms/step - loss: 1.6263 - accuracy: 0.6398 - val_loss: 1.4153 - val_accuracy: 0.7432\n",
      "Epoch 80/200\n",
      "2/2 [==============================] - 0s 59ms/step - loss: 1.6180 - accuracy: 0.6423 - val_loss: 1.4125 - val_accuracy: 0.7432\n",
      "Epoch 81/200\n",
      "2/2 [==============================] - 0s 62ms/step - loss: 1.6075 - accuracy: 0.6444 - val_loss: 1.4117 - val_accuracy: 0.7466\n",
      "Epoch 82/200\n",
      "2/2 [==============================] - 0s 60ms/step - loss: 1.6005 - accuracy: 0.6482 - val_loss: 1.4087 - val_accuracy: 0.7466\n",
      "Epoch 83/200\n",
      "2/2 [==============================] - 0s 54ms/step - loss: 1.5900 - accuracy: 0.6524 - val_loss: 1.4052 - val_accuracy: 0.7534\n",
      "Epoch 84/200\n",
      "2/2 [==============================] - 0s 61ms/step - loss: 1.5815 - accuracy: 0.6567 - val_loss: 1.4018 - val_accuracy: 0.7584\n",
      "Epoch 85/200\n",
      "2/2 [==============================] - 0s 62ms/step - loss: 1.5713 - accuracy: 0.6588 - val_loss: 1.4003 - val_accuracy: 0.7584\n",
      "Epoch 86/200\n",
      "2/2 [==============================] - 0s 59ms/step - loss: 1.5621 - accuracy: 0.6613 - val_loss: 1.3970 - val_accuracy: 0.7584\n",
      "Epoch 87/200\n",
      "2/2 [==============================] - 0s 64ms/step - loss: 1.5529 - accuracy: 0.6601 - val_loss: 1.3950 - val_accuracy: 0.7584\n",
      "Epoch 88/200\n",
      "2/2 [==============================] - 0s 60ms/step - loss: 1.5437 - accuracy: 0.6601 - val_loss: 1.3952 - val_accuracy: 0.7551\n",
      "Epoch 89/200\n",
      "2/2 [==============================] - 0s 63ms/step - loss: 1.5340 - accuracy: 0.6596 - val_loss: 1.3890 - val_accuracy: 0.7584\n",
      "Epoch 90/200\n",
      "2/2 [==============================] - 0s 60ms/step - loss: 1.5265 - accuracy: 0.6605 - val_loss: 1.3884 - val_accuracy: 0.7568\n",
      "Epoch 91/200\n",
      "2/2 [==============================] - 0s 59ms/step - loss: 1.5162 - accuracy: 0.6588 - val_loss: 1.3906 - val_accuracy: 0.7534\n",
      "Epoch 92/200\n",
      "2/2 [==============================] - 0s 61ms/step - loss: 1.5082 - accuracy: 0.6601 - val_loss: 1.3834 - val_accuracy: 0.7568\n",
      "Epoch 93/200\n",
      "2/2 [==============================] - 0s 62ms/step - loss: 1.5002 - accuracy: 0.6605 - val_loss: 1.3812 - val_accuracy: 0.7568\n",
      "Epoch 94/200\n",
      "2/2 [==============================] - 0s 57ms/step - loss: 1.4893 - accuracy: 0.6622 - val_loss: 1.3869 - val_accuracy: 0.7534\n",
      "Epoch 95/200\n",
      "2/2 [==============================] - 0s 58ms/step - loss: 1.4834 - accuracy: 0.6613 - val_loss: 1.3786 - val_accuracy: 0.7568\n",
      "Epoch 96/200\n",
      "2/2 [==============================] - 0s 62ms/step - loss: 1.4745 - accuracy: 0.6639 - val_loss: 1.3750 - val_accuracy: 0.7568\n",
      "Epoch 97/200\n",
      "2/2 [==============================] - 0s 59ms/step - loss: 1.4642 - accuracy: 0.6643 - val_loss: 1.3802 - val_accuracy: 0.7534\n",
      "Epoch 98/200\n",
      "2/2 [==============================] - 0s 75ms/step - loss: 1.4588 - accuracy: 0.6639 - val_loss: 1.3761 - val_accuracy: 0.7551\n",
      "Epoch 99/200\n",
      "2/2 [==============================] - 0s 59ms/step - loss: 1.4493 - accuracy: 0.6655 - val_loss: 1.3710 - val_accuracy: 0.7568\n",
      "Epoch 100/200\n",
      "2/2 [==============================] - 0s 58ms/step - loss: 1.4427 - accuracy: 0.6672 - val_loss: 1.3729 - val_accuracy: 0.7551\n",
      "Epoch 101/200\n",
      "2/2 [==============================] - 0s 59ms/step - loss: 1.4341 - accuracy: 0.6668 - val_loss: 1.3706 - val_accuracy: 0.7551\n",
      "Epoch 102/200\n",
      "2/2 [==============================] - 0s 60ms/step - loss: 1.4276 - accuracy: 0.6677 - val_loss: 1.3682 - val_accuracy: 0.7568\n",
      "Epoch 103/200\n",
      "2/2 [==============================] - 0s 62ms/step - loss: 1.4207 - accuracy: 0.6685 - val_loss: 1.3687 - val_accuracy: 0.7551\n",
      "Epoch 104/200\n",
      "2/2 [==============================] - 0s 73ms/step - loss: 1.4123 - accuracy: 0.6689 - val_loss: 1.3647 - val_accuracy: 0.7568\n",
      "Epoch 105/200\n",
      "2/2 [==============================] - 0s 60ms/step - loss: 1.4053 - accuracy: 0.6698 - val_loss: 1.3656 - val_accuracy: 0.7568\n",
      "Epoch 106/200\n",
      "2/2 [==============================] - 0s 62ms/step - loss: 1.3983 - accuracy: 0.6685 - val_loss: 1.3649 - val_accuracy: 0.7568\n",
      "Epoch 107/200\n",
      "2/2 [==============================] - 0s 64ms/step - loss: 1.3923 - accuracy: 0.6685 - val_loss: 1.3629 - val_accuracy: 0.7584\n",
      "Epoch 108/200\n",
      "2/2 [==============================] - 0s 62ms/step - loss: 1.3853 - accuracy: 0.6681 - val_loss: 1.3635 - val_accuracy: 0.7568\n",
      "Epoch 109/200\n",
      "2/2 [==============================] - 0s 61ms/step - loss: 1.3827 - accuracy: 0.6685 - val_loss: 1.3604 - val_accuracy: 0.7568\n",
      "Epoch 110/200\n",
      "2/2 [==============================] - 0s 74ms/step - loss: 1.3729 - accuracy: 0.6702 - val_loss: 1.3580 - val_accuracy: 0.7584\n",
      "Epoch 111/200\n",
      "2/2 [==============================] - 0s 61ms/step - loss: 1.3647 - accuracy: 0.6698 - val_loss: 1.3601 - val_accuracy: 0.7568\n",
      "Epoch 112/200\n",
      "2/2 [==============================] - 0s 59ms/step - loss: 1.3609 - accuracy: 0.6685 - val_loss: 1.3590 - val_accuracy: 0.7584\n",
      "Epoch 113/200\n",
      "2/2 [==============================] - 0s 59ms/step - loss: 1.3543 - accuracy: 0.6702 - val_loss: 1.3569 - val_accuracy: 0.7584\n",
      "Epoch 114/200\n",
      "2/2 [==============================] - 0s 60ms/step - loss: 1.3472 - accuracy: 0.6693 - val_loss: 1.3545 - val_accuracy: 0.7584\n",
      "Epoch 115/200\n",
      "2/2 [==============================] - 0s 68ms/step - loss: 1.3403 - accuracy: 0.6702 - val_loss: 1.3572 - val_accuracy: 0.7584\n",
      "Epoch 116/200\n",
      "2/2 [==============================] - 0s 57ms/step - loss: 1.3352 - accuracy: 0.6710 - val_loss: 1.3518 - val_accuracy: 0.7584\n",
      "Epoch 117/200\n"
     ]
    },
    {
     "name": "stdout",
     "output_type": "stream",
     "text": [
      "2/2 [==============================] - 0s 64ms/step - loss: 1.3277 - accuracy: 0.6715 - val_loss: 1.3512 - val_accuracy: 0.7584\n",
      "Epoch 118/200\n",
      "2/2 [==============================] - 0s 64ms/step - loss: 1.3212 - accuracy: 0.6715 - val_loss: 1.3524 - val_accuracy: 0.7584\n",
      "Epoch 119/200\n",
      "2/2 [==============================] - 0s 63ms/step - loss: 1.3151 - accuracy: 0.6715 - val_loss: 1.3502 - val_accuracy: 0.7584\n",
      "Epoch 120/200\n",
      "2/2 [==============================] - 0s 62ms/step - loss: 1.3089 - accuracy: 0.6710 - val_loss: 1.3491 - val_accuracy: 0.7584\n",
      "Epoch 121/200\n",
      "2/2 [==============================] - 0s 63ms/step - loss: 1.3032 - accuracy: 0.6710 - val_loss: 1.3497 - val_accuracy: 0.7584\n",
      "Epoch 122/200\n",
      "2/2 [==============================] - 0s 62ms/step - loss: 1.2972 - accuracy: 0.6706 - val_loss: 1.3493 - val_accuracy: 0.7584\n",
      "Epoch 123/200\n",
      "2/2 [==============================] - 0s 67ms/step - loss: 1.2912 - accuracy: 0.6710 - val_loss: 1.3483 - val_accuracy: 0.7584\n",
      "Epoch 124/200\n",
      "2/2 [==============================] - 0s 71ms/step - loss: 1.2859 - accuracy: 0.6731 - val_loss: 1.3474 - val_accuracy: 0.7584\n",
      "Epoch 125/200\n",
      "2/2 [==============================] - 0s 51ms/step - loss: 1.2802 - accuracy: 0.6723 - val_loss: 1.3474 - val_accuracy: 0.7584\n",
      "Epoch 126/200\n",
      "2/2 [==============================] - 0s 61ms/step - loss: 1.2746 - accuracy: 0.6727 - val_loss: 1.3439 - val_accuracy: 0.7584\n",
      "Epoch 127/200\n",
      "2/2 [==============================] - 0s 63ms/step - loss: 1.2689 - accuracy: 0.6740 - val_loss: 1.3442 - val_accuracy: 0.7584\n",
      "Epoch 128/200\n",
      "2/2 [==============================] - 0s 62ms/step - loss: 1.2629 - accuracy: 0.6740 - val_loss: 1.3442 - val_accuracy: 0.7584\n",
      "Epoch 129/200\n",
      "2/2 [==============================] - 0s 64ms/step - loss: 1.2578 - accuracy: 0.6753 - val_loss: 1.3425 - val_accuracy: 0.7584\n",
      "Epoch 130/200\n",
      "2/2 [==============================] - 0s 64ms/step - loss: 1.2527 - accuracy: 0.6761 - val_loss: 1.3439 - val_accuracy: 0.7584\n",
      "Epoch 131/200\n",
      "2/2 [==============================] - 0s 68ms/step - loss: 1.2462 - accuracy: 0.6769 - val_loss: 1.3399 - val_accuracy: 0.7601\n",
      "Epoch 132/200\n",
      "2/2 [==============================] - 0s 61ms/step - loss: 1.2413 - accuracy: 0.6774 - val_loss: 1.3417 - val_accuracy: 0.7584\n",
      "Epoch 133/200\n",
      "2/2 [==============================] - 0s 64ms/step - loss: 1.2356 - accuracy: 0.6769 - val_loss: 1.3410 - val_accuracy: 0.7584\n",
      "Epoch 134/200\n",
      "2/2 [==============================] - 0s 64ms/step - loss: 1.2299 - accuracy: 0.6786 - val_loss: 1.3405 - val_accuracy: 0.7584\n",
      "Epoch 135/200\n",
      "2/2 [==============================] - 0s 64ms/step - loss: 1.2250 - accuracy: 0.6812 - val_loss: 1.3426 - val_accuracy: 0.7584\n",
      "Epoch 136/200\n",
      "2/2 [==============================] - 0s 66ms/step - loss: 1.2201 - accuracy: 0.6812 - val_loss: 1.3405 - val_accuracy: 0.7584\n",
      "Epoch 137/200\n",
      "2/2 [==============================] - 0s 60ms/step - loss: 1.2145 - accuracy: 0.6833 - val_loss: 1.3415 - val_accuracy: 0.7584\n",
      "Epoch 138/200\n",
      "2/2 [==============================] - 0s 61ms/step - loss: 1.2099 - accuracy: 0.6824 - val_loss: 1.3409 - val_accuracy: 0.7584\n",
      "Epoch 139/200\n",
      "2/2 [==============================] - 0s 75ms/step - loss: 1.2042 - accuracy: 0.6807 - val_loss: 1.3408 - val_accuracy: 0.7584\n",
      "Epoch 140/200\n",
      "2/2 [==============================] - 0s 61ms/step - loss: 1.1991 - accuracy: 0.6816 - val_loss: 1.3434 - val_accuracy: 0.7584\n",
      "Epoch 141/200\n",
      "2/2 [==============================] - 0s 67ms/step - loss: 1.1943 - accuracy: 0.6841 - val_loss: 1.3431 - val_accuracy: 0.7584\n",
      "Epoch 142/200\n",
      "2/2 [==============================] - 0s 70ms/step - loss: 1.1901 - accuracy: 0.6850 - val_loss: 1.3429 - val_accuracy: 0.7584\n",
      "Epoch 143/200\n",
      "2/2 [==============================] - 0s 73ms/step - loss: 1.1844 - accuracy: 0.6862 - val_loss: 1.3405 - val_accuracy: 0.7584\n",
      "Epoch 144/200\n",
      "2/2 [==============================] - 0s 65ms/step - loss: 1.1795 - accuracy: 0.6888 - val_loss: 1.3409 - val_accuracy: 0.7584\n",
      "Epoch 145/200\n",
      "2/2 [==============================] - 0s 71ms/step - loss: 1.1746 - accuracy: 0.6913 - val_loss: 1.3413 - val_accuracy: 0.7584\n",
      "Epoch 146/200\n",
      "2/2 [==============================] - 0s 67ms/step - loss: 1.1699 - accuracy: 0.6934 - val_loss: 1.3429 - val_accuracy: 0.7584\n",
      "Epoch 147/200\n",
      "2/2 [==============================] - 0s 74ms/step - loss: 1.1654 - accuracy: 0.6930 - val_loss: 1.3434 - val_accuracy: 0.7584\n",
      "Epoch 148/200\n",
      "2/2 [==============================] - 0s 62ms/step - loss: 1.1606 - accuracy: 0.6947 - val_loss: 1.3431 - val_accuracy: 0.7584\n",
      "Epoch 149/200\n",
      "2/2 [==============================] - 0s 60ms/step - loss: 1.1562 - accuracy: 0.6968 - val_loss: 1.3418 - val_accuracy: 0.7584\n",
      "Epoch 150/200\n",
      "2/2 [==============================] - 0s 63ms/step - loss: 1.1514 - accuracy: 0.6997 - val_loss: 1.3417 - val_accuracy: 0.7584\n",
      "Epoch 151/200\n",
      "2/2 [==============================] - 0s 62ms/step - loss: 1.1469 - accuracy: 0.7010 - val_loss: 1.3425 - val_accuracy: 0.7584\n",
      "Epoch 152/200\n",
      "2/2 [==============================] - 0s 65ms/step - loss: 1.1424 - accuracy: 0.7014 - val_loss: 1.3441 - val_accuracy: 0.7584\n",
      "Epoch 153/200\n",
      "2/2 [==============================] - 0s 59ms/step - loss: 1.1380 - accuracy: 0.7023 - val_loss: 1.3432 - val_accuracy: 0.7584\n",
      "Epoch 154/200\n",
      "2/2 [==============================] - 0s 61ms/step - loss: 1.1336 - accuracy: 0.7019 - val_loss: 1.3421 - val_accuracy: 0.7584\n",
      "Epoch 155/200\n",
      "2/2 [==============================] - 0s 60ms/step - loss: 1.1292 - accuracy: 0.7044 - val_loss: 1.3411 - val_accuracy: 0.7601\n",
      "Epoch 156/200\n",
      "2/2 [==============================] - 0s 60ms/step - loss: 1.1251 - accuracy: 0.7061 - val_loss: 1.3425 - val_accuracy: 0.7584\n",
      "Epoch 157/200\n",
      "2/2 [==============================] - 0s 68ms/step - loss: 1.1208 - accuracy: 0.7090 - val_loss: 1.3426 - val_accuracy: 0.7601\n",
      "Epoch 158/200\n",
      "2/2 [==============================] - 0s 60ms/step - loss: 1.1170 - accuracy: 0.7103 - val_loss: 1.3418 - val_accuracy: 0.7601\n",
      "Epoch 159/200\n",
      "2/2 [==============================] - 0s 59ms/step - loss: 1.1134 - accuracy: 0.7086 - val_loss: 1.3423 - val_accuracy: 0.7601\n",
      "Epoch 160/200\n",
      "2/2 [==============================] - 0s 69ms/step - loss: 1.1113 - accuracy: 0.7120 - val_loss: 1.3428 - val_accuracy: 0.7584\n",
      "Epoch 161/200\n",
      "2/2 [==============================] - 0s 61ms/step - loss: 1.1059 - accuracy: 0.7141 - val_loss: 1.3476 - val_accuracy: 0.7601\n",
      "Epoch 162/200\n",
      "2/2 [==============================] - 0s 71ms/step - loss: 1.1026 - accuracy: 0.7183 - val_loss: 1.3445 - val_accuracy: 0.7601\n",
      "Epoch 163/200\n",
      "2/2 [==============================] - 0s 49ms/step - loss: 1.0988 - accuracy: 0.7149 - val_loss: 1.3454 - val_accuracy: 0.7601\n",
      "Epoch 164/200\n",
      "2/2 [==============================] - 0s 55ms/step - loss: 1.0944 - accuracy: 0.7196 - val_loss: 1.3407 - val_accuracy: 0.7618\n",
      "Epoch 165/200\n",
      "2/2 [==============================] - 0s 73ms/step - loss: 1.0895 - accuracy: 0.7196 - val_loss: 1.3389 - val_accuracy: 0.7669\n",
      "Epoch 166/200\n",
      "2/2 [==============================] - 0s 70ms/step - loss: 1.0860 - accuracy: 0.7234 - val_loss: 1.3369 - val_accuracy: 0.7669\n",
      "Epoch 167/200\n",
      "2/2 [==============================] - 0s 63ms/step - loss: 1.0816 - accuracy: 0.7226 - val_loss: 1.3395 - val_accuracy: 0.7686\n",
      "Epoch 168/200\n",
      "2/2 [==============================] - 0s 65ms/step - loss: 1.0777 - accuracy: 0.7251 - val_loss: 1.3420 - val_accuracy: 0.7686\n",
      "Epoch 169/200\n",
      "2/2 [==============================] - 0s 59ms/step - loss: 1.0735 - accuracy: 0.7268 - val_loss: 1.3402 - val_accuracy: 0.7703\n",
      "Epoch 170/200\n",
      "2/2 [==============================] - 0s 73ms/step - loss: 1.0705 - accuracy: 0.7259 - val_loss: 1.3436 - val_accuracy: 0.7686\n",
      "Epoch 171/200\n",
      "2/2 [==============================] - 0s 62ms/step - loss: 1.0669 - accuracy: 0.7306 - val_loss: 1.3410 - val_accuracy: 0.7686\n",
      "Epoch 172/200\n",
      "2/2 [==============================] - 0s 65ms/step - loss: 1.0639 - accuracy: 0.7268 - val_loss: 1.3471 - val_accuracy: 0.7686\n",
      "Epoch 173/200\n",
      "2/2 [==============================] - 0s 62ms/step - loss: 1.0612 - accuracy: 0.7327 - val_loss: 1.3438 - val_accuracy: 0.7720\n",
      "Epoch 174/200\n",
      "2/2 [==============================] - 0s 55ms/step - loss: 1.0557 - accuracy: 0.7335 - val_loss: 1.3368 - val_accuracy: 0.7703\n"
     ]
    },
    {
     "name": "stdout",
     "output_type": "stream",
     "text": [
      "Epoch 175/200\n",
      "2/2 [==============================] - 0s 65ms/step - loss: 1.0527 - accuracy: 0.7327 - val_loss: 1.3356 - val_accuracy: 0.7686\n",
      "Epoch 176/200\n",
      "2/2 [==============================] - 0s 63ms/step - loss: 1.0487 - accuracy: 0.7331 - val_loss: 1.3358 - val_accuracy: 0.7720\n",
      "Epoch 177/200\n",
      "2/2 [==============================] - 0s 60ms/step - loss: 1.0455 - accuracy: 0.7352 - val_loss: 1.3404 - val_accuracy: 0.7703\n",
      "Epoch 178/200\n",
      "2/2 [==============================] - 0s 61ms/step - loss: 1.0420 - accuracy: 0.7378 - val_loss: 1.3357 - val_accuracy: 0.7720\n",
      "Epoch 179/200\n",
      "2/2 [==============================] - 0s 62ms/step - loss: 1.0379 - accuracy: 0.7356 - val_loss: 1.3360 - val_accuracy: 0.7720\n",
      "Epoch 180/200\n",
      "2/2 [==============================] - 0s 62ms/step - loss: 1.0340 - accuracy: 0.7411 - val_loss: 1.3400 - val_accuracy: 0.7703\n",
      "Epoch 181/200\n",
      "2/2 [==============================] - 0s 68ms/step - loss: 1.0312 - accuracy: 0.7382 - val_loss: 1.3436 - val_accuracy: 0.7703\n",
      "Epoch 182/200\n",
      "2/2 [==============================] - 0s 59ms/step - loss: 1.0280 - accuracy: 0.7382 - val_loss: 1.3555 - val_accuracy: 0.7686\n",
      "Epoch 183/200\n",
      "2/2 [==============================] - 0s 62ms/step - loss: 1.0246 - accuracy: 0.7416 - val_loss: 1.3403 - val_accuracy: 0.7720\n",
      "Epoch 184/200\n",
      "2/2 [==============================] - 0s 62ms/step - loss: 1.0217 - accuracy: 0.7403 - val_loss: 1.3309 - val_accuracy: 0.7720\n",
      "Epoch 185/200\n",
      "2/2 [==============================] - 0s 66ms/step - loss: 1.0186 - accuracy: 0.7394 - val_loss: 1.3278 - val_accuracy: 0.7720\n",
      "Epoch 186/200\n",
      "2/2 [==============================] - 0s 75ms/step - loss: 1.0147 - accuracy: 0.7420 - val_loss: 1.3319 - val_accuracy: 0.7720\n",
      "Epoch 187/200\n",
      "2/2 [==============================] - 0s 62ms/step - loss: 1.0110 - accuracy: 0.7445 - val_loss: 1.3383 - val_accuracy: 0.7703\n",
      "Epoch 188/200\n",
      "2/2 [==============================] - 0s 61ms/step - loss: 1.0074 - accuracy: 0.7441 - val_loss: 1.3381 - val_accuracy: 0.7720\n",
      "Epoch 189/200\n",
      "2/2 [==============================] - 0s 66ms/step - loss: 1.0045 - accuracy: 0.7432 - val_loss: 1.3388 - val_accuracy: 0.7703\n",
      "Epoch 190/200\n",
      "2/2 [==============================] - 0s 61ms/step - loss: 1.0008 - accuracy: 0.7441 - val_loss: 1.3355 - val_accuracy: 0.7703\n",
      "Epoch 191/200\n",
      "2/2 [==============================] - 0s 68ms/step - loss: 0.9974 - accuracy: 0.7432 - val_loss: 1.3379 - val_accuracy: 0.7703\n",
      "Epoch 192/200\n",
      "2/2 [==============================] - 0s 69ms/step - loss: 0.9941 - accuracy: 0.7445 - val_loss: 1.3383 - val_accuracy: 0.7720\n",
      "Epoch 193/200\n",
      "2/2 [==============================] - 0s 61ms/step - loss: 0.9908 - accuracy: 0.7462 - val_loss: 1.3380 - val_accuracy: 0.7720\n",
      "Epoch 194/200\n",
      "2/2 [==============================] - 0s 62ms/step - loss: 0.9875 - accuracy: 0.7470 - val_loss: 1.3374 - val_accuracy: 0.7703\n",
      "Epoch 195/200\n",
      "2/2 [==============================] - 0s 61ms/step - loss: 0.9843 - accuracy: 0.7479 - val_loss: 1.3377 - val_accuracy: 0.7720\n",
      "Epoch 196/200\n",
      "2/2 [==============================] - 0s 65ms/step - loss: 0.9810 - accuracy: 0.7470 - val_loss: 1.3389 - val_accuracy: 0.7720\n",
      "Epoch 197/200\n",
      "2/2 [==============================] - 0s 74ms/step - loss: 0.9778 - accuracy: 0.7475 - val_loss: 1.3370 - val_accuracy: 0.7720\n",
      "Epoch 198/200\n",
      "2/2 [==============================] - 0s 62ms/step - loss: 0.9749 - accuracy: 0.7487 - val_loss: 1.3373 - val_accuracy: 0.7703\n",
      "Epoch 199/200\n",
      "2/2 [==============================] - 0s 65ms/step - loss: 0.9718 - accuracy: 0.7504 - val_loss: 1.3353 - val_accuracy: 0.7736\n",
      "Epoch 200/200\n",
      "2/2 [==============================] - 0s 51ms/step - loss: 0.9687 - accuracy: 0.7504 - val_loss: 1.3374 - val_accuracy: 0.7720\n"
     ]
    },
    {
     "data": {
      "text/plain": [
       "<keras.src.callbacks.History at 0x2312f8d9ad0>"
      ]
     },
     "execution_count": 25,
     "metadata": {},
     "output_type": "execute_result"
    }
   ],
   "source": [
    "# Train the model\n",
    "model.fit([encoder_input_data, decoder_input_data], decoder_target_data, batch_size=batch_size, epochs=num_epochs, validation_split=0.2)"
   ]
  },
  {
   "cell_type": "code",
   "execution_count": 26,
   "id": "b92ac66d",
   "metadata": {},
   "outputs": [],
   "source": [
    "model = tf.keras.Sequential()"
   ]
  },
  {
   "cell_type": "code",
   "execution_count": 27,
   "id": "d7bcd2d9",
   "metadata": {},
   "outputs": [],
   "source": [
    "dummy_input = np.array([ 8,  9, 10, 11,  3, 12,  0,  0,  0,  0,  0,  0,  0,  0,  0,  0,  0,\n",
    "        0,  0,  0,  0,  0,  0,  0,  0,  0,  0,  0,  0,  0,  0,  0,  0,  0,\n",
    "        0])\n",
    "_ = model(dummy_input)"
   ]
  },
  {
   "cell_type": "code",
   "execution_count": 28,
   "id": "52a5fc30",
   "metadata": {},
   "outputs": [
    {
     "name": "stderr",
     "output_type": "stream",
     "text": [
      "C:\\Users\\DEBASHISH THAKUR\\AppData\\Local\\Programs\\Python\\Python311\\Lib\\site-packages\\keras\\src\\engine\\training.py:3079: UserWarning: You are saving your model as an HDF5 file via `model.save()`. This file format is considered legacy. We recommend using instead the native Keras format, e.g. `model.save('my_model.keras')`.\n",
      "  saving_api.save_model(\n"
     ]
    }
   ],
   "source": [
    "##saving model\n",
    "model.save('seq2seq_model.h5')"
   ]
  },
  {
   "cell_type": "code",
   "execution_count": 29,
   "id": "8d205f15",
   "metadata": {},
   "outputs": [
    {
     "name": "stdout",
     "output_type": "stream",
     "text": [
      "WARNING:tensorflow:No training configuration found in the save file, so the model was *not* compiled. Compile it manually.\n"
     ]
    }
   ],
   "source": [
    "from tensorflow.keras.models import load_model\n",
    "model = load_model('seq2seq_model.h5')\n"
   ]
  },
  {
   "cell_type": "code",
   "execution_count": 44,
   "id": "4faf6e58",
   "metadata": {},
   "outputs": [],
   "source": [
    "# Load your tokenizers, embeddings, and model as described in the previous response\n",
    "\n",
    "# Define the start token and initial decoder input\n",
    "start_token = target_tokenizer['<start>']\n",
    "end_token = source_tokenizer['<end>']\n",
    "initial_decoder_input = np.zeros((1, 37))\n",
    "initial_decoder_input[0, 0] = start_token\n"
   ]
  },
  {
   "cell_type": "code",
   "execution_count": 84,
   "id": "2f97ef49",
   "metadata": {},
   "outputs": [
    {
     "ename": "IndexError",
     "evalue": "index 1 is out of bounds for axis 0 with size 1",
     "output_type": "error",
     "traceback": [
      "\u001b[1;31m---------------------------------------------------------------------------\u001b[0m",
      "\u001b[1;31mIndexError\u001b[0m                                Traceback (most recent call last)",
      "Cell \u001b[1;32mIn[84], line 15\u001b[0m\n\u001b[0;32m     13\u001b[0m predicted_sql_tokens \u001b[38;5;241m=\u001b[39m []\n\u001b[0;32m     14\u001b[0m current_input \u001b[38;5;241m=\u001b[39m np\u001b[38;5;241m.\u001b[39mzeros((\u001b[38;5;241m1\u001b[39m, sequence_length))\n\u001b[1;32m---> 15\u001b[0m \u001b[43mcurrent_input\u001b[49m\u001b[43m[\u001b[49m\u001b[38;5;241;43m1\u001b[39;49m\u001b[43m,\u001b[49m\u001b[43m \u001b[49m\u001b[38;5;241;43m37\u001b[39;49m\u001b[43m]\u001b[49m \u001b[38;5;241m=\u001b[39m start_token\n\u001b[0;32m     17\u001b[0m \u001b[38;5;28;01mwhile\u001b[39;00m \u001b[38;5;28mlen\u001b[39m(predicted_sql_tokens) \u001b[38;5;241m<\u001b[39m sequence_length:\n\u001b[0;32m     18\u001b[0m     \u001b[38;5;66;03m# Predict the next token\u001b[39;00m\n\u001b[0;32m     19\u001b[0m     predictions \u001b[38;5;241m=\u001b[39m model\u001b[38;5;241m.\u001b[39mpredict([user_question_sequence, current_input])\n",
      "\u001b[1;31mIndexError\u001b[0m: index 1 is out of bounds for axis 0 with size 1"
     ]
    }
   ],
   "source": [
    "# User input\n",
    "user_question = \"Count the total number of accounts\"\n",
    "user_question_tokens = user_question.split()\n",
    "user_question_sequence = [1] + [source_tokenizer.get(word,0) for word in user_question_tokens] + [2]\n",
    "user_question_sequence = pad_sequences([user_question_sequence], sequence_length)\n",
    "# Load your tokenizers, embeddings, and model as described in your setup\n",
    "\n",
    "# Define the start and end tokens\n",
    "start_token = target_tokenizer['<start>']\n",
    "end_token = target_tokenizer['<end>']\n",
    "\n",
    "# Initialize variables for prediction\n",
    "predicted_sql_tokens = []\n",
    "current_input = np.zeros((1, sequence_length))\n",
    "current_input[0, 0] = start_token\n",
    "\n",
    "while len(predicted_sql_tokens) < sequence_length:\n",
    "    # Predict the next token\n",
    "    predictions = model.predict([user_question_sequence, current_input])\n",
    "    predicted_token_index = np.argmax(predictions[0, -1, :])\n",
    "\n",
    "    # Convert the token index to the corresponding word\n",
    "    predicted_word = [key for key, value in target_tokenizer.items() if value == predicted_token_index][0]\n",
    "\n",
    "    # Append the predicted token to the sequence\n",
    "    predicted_sql_tokens.append(predicted_word)\n",
    "\n",
    "    # Prepare the input for the next prediction\n",
    "    current_input[0, len(predicted_sql_tokens)] = predicted_token_index\n",
    "\n",
    "    # Check for the end token\n",
    "    if predicted_word == '<end>':\n",
    "        break\n",
    "\n",
    "# Convert Predicted Tokens to SQL Query\n",
    "predicted_sql_query = ' '.join(predicted_sql_tokens)\n",
    "\n",
    "# Execute or Display the SQL Query as needed\n"
   ]
  },
  {
   "cell_type": "code",
   "execution_count": 77,
   "id": "a44e7114",
   "metadata": {},
   "outputs": [
    {
     "data": {
      "text/plain": [
       "['Count', 'the', 'total', 'number', 'of', 'accounts']"
      ]
     },
     "execution_count": 77,
     "metadata": {},
     "output_type": "execute_result"
    }
   ],
   "source": [
    "user_question_tokens"
   ]
  },
  {
   "cell_type": "code",
   "execution_count": 78,
   "id": "9c5b9ff4",
   "metadata": {},
   "outputs": [
    {
     "name": "stdout",
     "output_type": "stream",
     "text": [
      "[[[  1.  10.  11. 105.  12.  13.   5.   2.   0.   0.   0.   0.   0.   0.\n",
      "     0.   0.   0.   0.   0.   0.   0.   0.   0.   0.   0.   0.   0.   0.\n",
      "     0.   0.   0.   0.   0.   0.   0.   0.   0.]]\n",
      "\n",
      " [[  1.   3.   3.   3.   3.   3.   3.   3.   3.   3.   3.   3.   3.   3.\n",
      "     3.   3.   3.   3.   3.   3.   3.   3.   3.   3.   3.   3.   3.   3.\n",
      "     3.   3.   3.   3.   3.   3.   3.   3.   3.]]]\n"
     ]
    }
   ],
   "source": [
    "print(predictions)"
   ]
  },
  {
   "cell_type": "code",
   "execution_count": 79,
   "id": "cc489f9a",
   "metadata": {},
   "outputs": [
    {
     "name": "stdout",
     "output_type": "stream",
     "text": [
      "[[1, 10, 11, 105, 12, 13, 5, 2, 0, 0, 0, 0, 0, 0, 0, 0, 0, 0, 0, 0, 0, 0, 0, 0, 0, 0, 0, 0, 0, 0, 0, 0, 0, 0, 0, 0, 0]]\n"
     ]
    }
   ],
   "source": [
    "print(user_question_sequence)"
   ]
  },
  {
   "cell_type": "code",
   "execution_count": 80,
   "id": "3960c47f",
   "metadata": {},
   "outputs": [
    {
     "name": "stdout",
     "output_type": "stream",
     "text": [
      "SELECT\n"
     ]
    }
   ],
   "source": [
    "print(predicted_word)"
   ]
  },
  {
   "cell_type": "code",
   "execution_count": 81,
   "id": "06b72b1b",
   "metadata": {},
   "outputs": [
    {
     "name": "stdout",
     "output_type": "stream",
     "text": [
      "3\n"
     ]
    }
   ],
   "source": [
    "print(predicted_token_index)"
   ]
  },
  {
   "cell_type": "code",
   "execution_count": 82,
   "id": "ffccf282",
   "metadata": {},
   "outputs": [
    {
     "name": "stdout",
     "output_type": "stream",
     "text": [
      "['SELECT', 'SELECT', 'SELECT', 'SELECT', 'SELECT', 'SELECT', 'SELECT', 'SELECT', 'SELECT', 'SELECT', 'SELECT', 'SELECT', 'SELECT', 'SELECT', 'SELECT', 'SELECT', 'SELECT', 'SELECT', 'SELECT', 'SELECT', 'SELECT', 'SELECT', 'SELECT', 'SELECT', 'SELECT', 'SELECT', 'SELECT', 'SELECT', 'SELECT', 'SELECT', 'SELECT', 'SELECT', 'SELECT', 'SELECT', 'SELECT', 'SELECT', 'SELECT']\n"
     ]
    }
   ],
   "source": [
    "print(predicted_sql_tokens)"
   ]
  },
  {
   "cell_type": "code",
   "execution_count": null,
   "id": "b4ff4dbd",
   "metadata": {},
   "outputs": [],
   "source": []
  }
 ],
 "metadata": {
  "kernelspec": {
   "display_name": "venv",
   "language": "python",
   "name": "venv"
  },
  "language_info": {
   "codemirror_mode": {
    "name": "ipython",
    "version": 3
   },
   "file_extension": ".py",
   "mimetype": "text/x-python",
   "name": "python",
   "nbconvert_exporter": "python",
   "pygments_lexer": "ipython3",
   "version": "3.11.3"
  }
 },
 "nbformat": 4,
 "nbformat_minor": 5
}
