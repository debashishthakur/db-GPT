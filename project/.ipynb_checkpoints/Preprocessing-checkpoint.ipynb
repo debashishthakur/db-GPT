{
 "cells": [
  {
   "cell_type": "code",
   "execution_count": 1,
   "id": "67b38a72",
   "metadata": {},
   "outputs": [],
   "source": [
    "##import llibraries"
   ]
  },
  {
   "cell_type": "code",
   "execution_count": null,
   "id": "ece2b1b1",
   "metadata": {},
   "outputs": [],
   "source": [
    "##define function preprocess\n",
    "def preprocess(user_query : str):\n",
    "    ##code\n",
    "    return"
   ]
  }
 ],
 "metadata": {
  "kernelspec": {
   "display_name": "venv",
   "language": "python",
   "name": "venv"
  },
  "language_info": {
   "codemirror_mode": {
    "name": "ipython",
    "version": 3
   },
   "file_extension": ".py",
   "mimetype": "text/x-python",
   "name": "python",
   "nbconvert_exporter": "python",
   "pygments_lexer": "ipython3",
   "version": "3.11.3"
  }
 },
 "nbformat": 4,
 "nbformat_minor": 5
}
