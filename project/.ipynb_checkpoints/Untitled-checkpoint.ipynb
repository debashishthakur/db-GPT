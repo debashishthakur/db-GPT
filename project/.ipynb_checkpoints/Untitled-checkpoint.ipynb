{
 "cells": [
  {
   "cell_type": "code",
   "execution_count": 163,
   "id": "5dd19ccf",
   "metadata": {},
   "outputs": [],
   "source": [
    "# pip install tensorflow"
   ]
  },
  {
   "cell_type": "code",
   "execution_count": 164,
   "id": "a3efb997",
   "metadata": {},
   "outputs": [],
   "source": [
    "import tensorflow as tf\n",
    "import json\n",
    "import numpy as np\n",
    "from sklearn.model_selection import train_test_split"
   ]
  },
  {
   "cell_type": "code",
   "execution_count": 165,
   "id": "061682ed",
   "metadata": {},
   "outputs": [],
   "source": [
    "#model parameters\n",
    "max_input_sequence_length = 35\n",
    "max_output_sequence_length = 35\n",
    "input_vocab_size = 113\n",
    "output_vocab_size = 79\n",
    "embedding_dim = 128\n",
    "lstm_units = 64"
   ]
  },
  {
   "cell_type": "code",
   "execution_count": 166,
   "id": "2c2be52e",
   "metadata": {},
   "outputs": [],
   "source": [
    "# Create the Encoder\n",
    "encoder_inputs = tf.keras.layers.Input(shape=(max_input_sequence_length,))\n",
    "encoder_embedding = tf.keras.layers.Embedding(input_vocab_size, embedding_dim)(encoder_inputs)\n",
    "encoder_lstm = tf.keras.layers.LSTM(units=lstm_units, return_state=True)\n",
    "encoder_outputs, state_h, state_c = encoder_lstm(encoder_embedding)"
   ]
  },
  {
   "cell_type": "code",
   "execution_count": 167,
   "id": "b1c490f1",
   "metadata": {},
   "outputs": [],
   "source": [
    "# Create the Decoder\n",
    "decoder_inputs = tf.keras.layers.Input(shape=(max_output_sequence_length,))\n",
    "decoder_embedding = tf.keras.layers.Embedding(output_vocab_size, embedding_dim)(decoder_inputs)\n",
    "decoder_lstm = tf.keras.layers.LSTM(units=lstm_units, return_sequences=True, return_state=True)\n",
    "decoder_outputs, _, _ = decoder_lstm(decoder_embedding, initial_state=[state_h, state_c])"
   ]
  },
  {
   "cell_type": "code",
   "execution_count": 168,
   "id": "6c3a6093",
   "metadata": {},
   "outputs": [],
   "source": [
    "output_vocab = tf.keras.layers.Dense(output_vocab_size, activation='softmax')(decoder_outputs)\n"
   ]
  },
  {
   "cell_type": "code",
   "execution_count": 169,
   "id": "b58314f8",
   "metadata": {},
   "outputs": [],
   "source": [
    "model = tf.keras.models.Model(inputs=[encoder_inputs, decoder_inputs], outputs=output_vocab)\n"
   ]
  },
  {
   "cell_type": "code",
   "execution_count": 170,
   "id": "c8ad95fc",
   "metadata": {},
   "outputs": [],
   "source": [
    "model.compile(optimizer='adam', loss='categorical_crossentropy', metrics=['accuracy'])\n"
   ]
  },
  {
   "cell_type": "code",
   "execution_count": 171,
   "id": "7c5c4c81",
   "metadata": {},
   "outputs": [
    {
     "name": "stdout",
     "output_type": "stream",
     "text": [
      "Model: \"model_8\"\n",
      "__________________________________________________________________________________________________\n",
      " Layer (type)                Output Shape                 Param #   Connected to                  \n",
      "==================================================================================================\n",
      " input_19 (InputLayer)       [(None, 35)]                 0         []                            \n",
      "                                                                                                  \n",
      " input_20 (InputLayer)       [(None, 35)]                 0         []                            \n",
      "                                                                                                  \n",
      " embedding_17 (Embedding)    (None, 35, 128)              14464     ['input_19[0][0]']            \n",
      "                                                                                                  \n",
      " embedding_18 (Embedding)    (None, 35, 128)              10112     ['input_20[0][0]']            \n",
      "                                                                                                  \n",
      " lstm_17 (LSTM)              [(None, 64),                 49408     ['embedding_17[0][0]']        \n",
      "                              (None, 64),                                                         \n",
      "                              (None, 64)]                                                         \n",
      "                                                                                                  \n",
      " lstm_18 (LSTM)              [(None, 35, 64),             49408     ['embedding_18[0][0]',        \n",
      "                              (None, 64),                            'lstm_17[0][1]',             \n",
      "                              (None, 64)]                            'lstm_17[0][2]']             \n",
      "                                                                                                  \n",
      " dense_8 (Dense)             (None, 35, 79)               5135      ['lstm_18[0][0]']             \n",
      "                                                                                                  \n",
      "==================================================================================================\n",
      "Total params: 128527 (502.06 KB)\n",
      "Trainable params: 128527 (502.06 KB)\n",
      "Non-trainable params: 0 (0.00 Byte)\n",
      "__________________________________________________________________________________________________\n"
     ]
    }
   ],
   "source": [
    "model.summary()\n"
   ]
  },
  {
   "cell_type": "code",
   "execution_count": 172,
   "id": "e40cf099",
   "metadata": {},
   "outputs": [],
   "source": [
    "#monitoring training progress\n",
    "log_dir = \"C:/Users/DEBASHISH THAKUR/Desktop/project\"\n",
    "tensorboard_callback = tf.keras.callbacks.TensorBoard(log_dir=log_dir, histogram_freq=1)\n"
   ]
  },
  {
   "cell_type": "code",
   "execution_count": 173,
   "id": "5544ef14",
   "metadata": {},
   "outputs": [],
   "source": [
    "##load the dataset\n",
    "with open('C:/Users/DEBASHISH THAKUR/Desktop/project/card.json', 'r') as json_file:\n",
    "    dataset = json.load(json_file)"
   ]
  },
  {
   "cell_type": "code",
   "execution_count": 174,
   "id": "0026b3b8",
   "metadata": {},
   "outputs": [],
   "source": [
    "##questions and their corresponding queries\n",
    "train_encoder_inputs = [example[\"question_toks\"] for example in dataset]\n",
    "train_decoder_inputs = [example[\"query_toks\"] for example in dataset]"
   ]
  },
  {
   "cell_type": "code",
   "execution_count": 175,
   "id": "a697ac05",
   "metadata": {},
   "outputs": [],
   "source": [
    "max_sequence_length = 35\n",
    "\n",
    "# Pad the sequences to a consistent length\n",
    "def pad_sequences(sequences, max_length):\n",
    "    padded_sequences = []\n",
    "    for sequence in sequences:\n",
    "        if len(sequence) < max_length:\n",
    "            padded_sequence = sequence + [\"<PAD>\"] * (max_length - len(sequence))\n",
    "        else:\n",
    "            padded_sequence = sequence[:max_length]\n",
    "        padded_sequences.append(padded_sequence)\n",
    "    return padded_sequences\n",
    "\n",
    "# Pad the encoder and decoder inputs\n",
    "train_encoder_inputs = pad_sequences(train_encoder_inputs, max_sequence_length)\n",
    "train_decoder_inputs = pad_sequences(train_decoder_inputs, max_sequence_length)"
   ]
  },
  {
   "cell_type": "code",
   "execution_count": 176,
   "id": "40cc6164",
   "metadata": {},
   "outputs": [],
   "source": [
    "index = 1\n",
    "vocabulary = {}\n",
    "\n",
    "for i in dataset:\n",
    "    query_toks = i[\"query_toks\"]\n",
    "    # print(query_toks)\n",
    "    for j in query_toks:\n",
    "        # print(j)\n",
    "        \n",
    "        if j not in vocabulary:\n",
    "            vocabulary[j] = index\n",
    "            index += 1\n"
   ]
  },
  {
   "cell_type": "code",
   "execution_count": 177,
   "id": "7f06d651",
   "metadata": {},
   "outputs": [],
   "source": [
    "train_decoder_outputs = []\n",
    "for query_data in dataset: \n",
    "    # Extract the SQL query tokens from the dataset\n",
    "    sql_query_tokens = query_data[\"query_toks\"]\n",
    "\n",
    "    # Convert SQL query tokens to numerical sequences based on the vocabulary\n",
    "    query_numeric_sequence = [vocabulary[token] for token in sql_query_tokens]\n",
    "\n",
    "    # Append the numerical sequence to train_decoder_outputs\n",
    "    train_decoder_outputs.append(query_numeric_sequence)\n",
    "train_decoder_outputs = pad_sequences(train_decoder_outputs, max_sequence_length)\n",
    "# print(train_decoder_outputs)"
   ]
  },
  {
   "cell_type": "code",
   "execution_count": 178,
   "id": "4e4b14fc",
   "metadata": {},
   "outputs": [],
   "source": [
    "# Split the dataset into training (80%) and temporary (20%) sets\n",
    "X_train, X_temp, y_train_inputs, y_temp = train_test_split(\n",
    "    train_encoder_inputs,\n",
    "    train_decoder_inputs,\n",
    "    train_size=0.80,\n",
    "    test_size=0.20,  # Adjust the ratio for the temporary set\n",
    "    random_state=None  # Set a random seed for reproducibility\n",
    ")\n",
    "\n",
    "# Split the temporary set into validation (50%) and testing (50%) sets\n",
    "X_val, X_test, y_val_inputs, y_test_inputs = train_test_split(\n",
    "    X_temp,\n",
    "    y_temp,\n",
    "    test_size=0.50,  # Half of the temporary set becomes validation, and half becomes testing\n",
    "    random_state=42\n",
    ")\n",
    "\n",
    "# If you also have y_train_outputs, y_val_outputs, and y_test_outputs, split them similarly.\n"
   ]
  },
  {
   "cell_type": "code",
   "execution_count": 179,
   "id": "02f34d20",
   "metadata": {},
   "outputs": [],
   "source": [
    "# X_val = pad_sequences(X_val, max_sequence_length)\n",
    "# X_test = pad_sequences(X_test, max_sequence_length)\n",
    "# y_val_inputs = pad_sequences(y_val_inputs, max_sequence_length)\n",
    "# y_test_inputs = pad_sequences(y_test_inputs, max_sequence_length)"
   ]
  },
  {
   "cell_type": "code",
   "execution_count": 180,
   "id": "a0cd1fd0",
   "metadata": {},
   "outputs": [],
   "source": [
    "X_train = np.array(X_train)\n",
    "X_val = np.array(X_val)\n",
    "X_test = np.array(X_test)\n",
    "\n",
    "y_train_outputs = np.array(train_decoder_outputs)[:64] ##ground truth but not aligned with X_train and y_train_inputs\n",
    "\n",
    "y_train_inputs = np.array(y_train_inputs)\n",
    "y_val_inputs = np.array(y_val_inputs)\n",
    "y_test_inputs = np.array(y_test_inputs)"
   ]
  },
  {
   "cell_type": "code",
   "execution_count": 181,
   "id": "26609db5",
   "metadata": {},
   "outputs": [
    {
     "name": "stdout",
     "output_type": "stream",
     "text": [
      "Epoch 1/10\n"
     ]
    },
    {
     "ename": "ValueError",
     "evalue": "in user code:\n\n    File \"C:\\Users\\DEBASHISH THAKUR\\AppData\\Local\\Programs\\Python\\Python311\\Lib\\site-packages\\keras\\src\\engine\\training.py\", line 1377, in train_function  *\n        return step_function(self, iterator)\n    File \"C:\\Users\\DEBASHISH THAKUR\\AppData\\Local\\Programs\\Python\\Python311\\Lib\\site-packages\\keras\\src\\engine\\training.py\", line 1360, in step_function  **\n        outputs = model.distribute_strategy.run(run_step, args=(data,))\n    File \"C:\\Users\\DEBASHISH THAKUR\\AppData\\Local\\Programs\\Python\\Python311\\Lib\\site-packages\\keras\\src\\engine\\training.py\", line 1349, in run_step  **\n        outputs = model.train_step(data)\n    File \"C:\\Users\\DEBASHISH THAKUR\\AppData\\Local\\Programs\\Python\\Python311\\Lib\\site-packages\\keras\\src\\engine\\training.py\", line 1127, in train_step\n        loss = self.compute_loss(x, y, y_pred, sample_weight)\n    File \"C:\\Users\\DEBASHISH THAKUR\\AppData\\Local\\Programs\\Python\\Python311\\Lib\\site-packages\\keras\\src\\engine\\training.py\", line 1185, in compute_loss\n        return self.compiled_loss(\n    File \"C:\\Users\\DEBASHISH THAKUR\\AppData\\Local\\Programs\\Python\\Python311\\Lib\\site-packages\\keras\\src\\engine\\compile_utils.py\", line 277, in __call__\n        loss_value = loss_obj(y_t, y_p, sample_weight=sw)\n    File \"C:\\Users\\DEBASHISH THAKUR\\AppData\\Local\\Programs\\Python\\Python311\\Lib\\site-packages\\keras\\src\\losses.py\", line 143, in __call__\n        losses = call_fn(y_true, y_pred)\n    File \"C:\\Users\\DEBASHISH THAKUR\\AppData\\Local\\Programs\\Python\\Python311\\Lib\\site-packages\\keras\\src\\losses.py\", line 270, in call  **\n        return ag_fn(y_true, y_pred, **self._fn_kwargs)\n    File \"C:\\Users\\DEBASHISH THAKUR\\AppData\\Local\\Programs\\Python\\Python311\\Lib\\site-packages\\keras\\src\\losses.py\", line 2221, in categorical_crossentropy\n        return backend.categorical_crossentropy(\n    File \"C:\\Users\\DEBASHISH THAKUR\\AppData\\Local\\Programs\\Python\\Python311\\Lib\\site-packages\\keras\\src\\backend.py\", line 5575, in categorical_crossentropy\n        target.shape.assert_is_compatible_with(output.shape)\n\n    ValueError: Shapes (8, 35) and (8, 35, 79) are incompatible\n",
     "output_type": "error",
     "traceback": [
      "\u001b[1;31m---------------------------------------------------------------------------\u001b[0m",
      "\u001b[1;31mValueError\u001b[0m                                Traceback (most recent call last)",
      "Cell \u001b[1;32mIn[181], line 5\u001b[0m\n\u001b[0;32m      2\u001b[0m num_epochs \u001b[38;5;241m=\u001b[39m \u001b[38;5;241m10\u001b[39m  \u001b[38;5;66;03m# Number of training epochs\u001b[39;00m\n\u001b[0;32m      3\u001b[0m batch_size \u001b[38;5;241m=\u001b[39m \u001b[38;5;241m8\u001b[39m  \u001b[38;5;66;03m# Batch size\u001b[39;00m\n\u001b[1;32m----> 5\u001b[0m history \u001b[38;5;241m=\u001b[39m \u001b[43mmodel\u001b[49m\u001b[38;5;241;43m.\u001b[39;49m\u001b[43mfit\u001b[49m\u001b[43m(\u001b[49m\n\u001b[0;32m      6\u001b[0m \u001b[43m    \u001b[49m\u001b[43m[\u001b[49m\u001b[43mX_train\u001b[49m\u001b[43m,\u001b[49m\u001b[43m \u001b[49m\u001b[43my_train_inputs\u001b[49m\u001b[43m]\u001b[49m\u001b[43m,\u001b[49m\u001b[43m  \u001b[49m\u001b[38;5;66;43;03m# Input data\u001b[39;49;00m\n\u001b[0;32m      7\u001b[0m \u001b[43m    \u001b[49m\u001b[43my_train_outputs\u001b[49m\u001b[43m,\u001b[49m\u001b[43m            \u001b[49m\u001b[38;5;66;43;03m# Target data (if available)\u001b[39;49;00m\n\u001b[0;32m      8\u001b[0m \u001b[43m    \u001b[49m\u001b[43mvalidation_data\u001b[49m\u001b[38;5;241;43m=\u001b[39;49m\u001b[43m(\u001b[49m\u001b[43m[\u001b[49m\u001b[43mX_val\u001b[49m\u001b[43m,\u001b[49m\u001b[43m \u001b[49m\u001b[43my_val_inputs\u001b[49m\u001b[43m]\u001b[49m\u001b[43m,\u001b[49m\u001b[43m \u001b[49m\u001b[43my_val_inputs\u001b[49m\u001b[43m)\u001b[49m\u001b[43m,\u001b[49m\u001b[43m  \u001b[49m\u001b[38;5;66;43;03m# Validation data\u001b[39;49;00m\n\u001b[0;32m      9\u001b[0m \u001b[43m    \u001b[49m\u001b[43mepochs\u001b[49m\u001b[38;5;241;43m=\u001b[39;49m\u001b[43mnum_epochs\u001b[49m\u001b[43m,\u001b[49m\n\u001b[0;32m     10\u001b[0m \u001b[43m    \u001b[49m\u001b[43mbatch_size\u001b[49m\u001b[38;5;241;43m=\u001b[39;49m\u001b[43mbatch_size\u001b[49m\u001b[43m,\u001b[49m\n\u001b[0;32m     11\u001b[0m \u001b[43m    \u001b[49m\u001b[43mverbose\u001b[49m\u001b[38;5;241;43m=\u001b[39;49m\u001b[38;5;241;43m2\u001b[39;49m\u001b[43m  \u001b[49m\u001b[38;5;66;43;03m# Set verbosity level\u001b[39;49;00m\n\u001b[0;32m     12\u001b[0m \u001b[43m)\u001b[49m\n",
      "File \u001b[1;32m~\\AppData\\Local\\Programs\\Python\\Python311\\Lib\\site-packages\\keras\\src\\utils\\traceback_utils.py:70\u001b[0m, in \u001b[0;36mfilter_traceback.<locals>.error_handler\u001b[1;34m(*args, **kwargs)\u001b[0m\n\u001b[0;32m     67\u001b[0m     filtered_tb \u001b[38;5;241m=\u001b[39m _process_traceback_frames(e\u001b[38;5;241m.\u001b[39m__traceback__)\n\u001b[0;32m     68\u001b[0m     \u001b[38;5;66;03m# To get the full stack trace, call:\u001b[39;00m\n\u001b[0;32m     69\u001b[0m     \u001b[38;5;66;03m# `tf.debugging.disable_traceback_filtering()`\u001b[39;00m\n\u001b[1;32m---> 70\u001b[0m     \u001b[38;5;28;01mraise\u001b[39;00m e\u001b[38;5;241m.\u001b[39mwith_traceback(filtered_tb) \u001b[38;5;28;01mfrom\u001b[39;00m \u001b[38;5;28;01mNone\u001b[39;00m\n\u001b[0;32m     71\u001b[0m \u001b[38;5;28;01mfinally\u001b[39;00m:\n\u001b[0;32m     72\u001b[0m     \u001b[38;5;28;01mdel\u001b[39;00m filtered_tb\n",
      "File \u001b[1;32mC:\\Users\\DEBASH~1\\AppData\\Local\\Temp\\__autograph_generated_filer3tx_uzn.py:15\u001b[0m, in \u001b[0;36mouter_factory.<locals>.inner_factory.<locals>.tf__train_function\u001b[1;34m(iterator)\u001b[0m\n\u001b[0;32m     13\u001b[0m \u001b[38;5;28;01mtry\u001b[39;00m:\n\u001b[0;32m     14\u001b[0m     do_return \u001b[38;5;241m=\u001b[39m \u001b[38;5;28;01mTrue\u001b[39;00m\n\u001b[1;32m---> 15\u001b[0m     retval_ \u001b[38;5;241m=\u001b[39m ag__\u001b[38;5;241m.\u001b[39mconverted_call(ag__\u001b[38;5;241m.\u001b[39mld(step_function), (ag__\u001b[38;5;241m.\u001b[39mld(\u001b[38;5;28mself\u001b[39m), ag__\u001b[38;5;241m.\u001b[39mld(iterator)), \u001b[38;5;28;01mNone\u001b[39;00m, fscope)\n\u001b[0;32m     16\u001b[0m \u001b[38;5;28;01mexcept\u001b[39;00m:\n\u001b[0;32m     17\u001b[0m     do_return \u001b[38;5;241m=\u001b[39m \u001b[38;5;28;01mFalse\u001b[39;00m\n",
      "\u001b[1;31mValueError\u001b[0m: in user code:\n\n    File \"C:\\Users\\DEBASHISH THAKUR\\AppData\\Local\\Programs\\Python\\Python311\\Lib\\site-packages\\keras\\src\\engine\\training.py\", line 1377, in train_function  *\n        return step_function(self, iterator)\n    File \"C:\\Users\\DEBASHISH THAKUR\\AppData\\Local\\Programs\\Python\\Python311\\Lib\\site-packages\\keras\\src\\engine\\training.py\", line 1360, in step_function  **\n        outputs = model.distribute_strategy.run(run_step, args=(data,))\n    File \"C:\\Users\\DEBASHISH THAKUR\\AppData\\Local\\Programs\\Python\\Python311\\Lib\\site-packages\\keras\\src\\engine\\training.py\", line 1349, in run_step  **\n        outputs = model.train_step(data)\n    File \"C:\\Users\\DEBASHISH THAKUR\\AppData\\Local\\Programs\\Python\\Python311\\Lib\\site-packages\\keras\\src\\engine\\training.py\", line 1127, in train_step\n        loss = self.compute_loss(x, y, y_pred, sample_weight)\n    File \"C:\\Users\\DEBASHISH THAKUR\\AppData\\Local\\Programs\\Python\\Python311\\Lib\\site-packages\\keras\\src\\engine\\training.py\", line 1185, in compute_loss\n        return self.compiled_loss(\n    File \"C:\\Users\\DEBASHISH THAKUR\\AppData\\Local\\Programs\\Python\\Python311\\Lib\\site-packages\\keras\\src\\engine\\compile_utils.py\", line 277, in __call__\n        loss_value = loss_obj(y_t, y_p, sample_weight=sw)\n    File \"C:\\Users\\DEBASHISH THAKUR\\AppData\\Local\\Programs\\Python\\Python311\\Lib\\site-packages\\keras\\src\\losses.py\", line 143, in __call__\n        losses = call_fn(y_true, y_pred)\n    File \"C:\\Users\\DEBASHISH THAKUR\\AppData\\Local\\Programs\\Python\\Python311\\Lib\\site-packages\\keras\\src\\losses.py\", line 270, in call  **\n        return ag_fn(y_true, y_pred, **self._fn_kwargs)\n    File \"C:\\Users\\DEBASHISH THAKUR\\AppData\\Local\\Programs\\Python\\Python311\\Lib\\site-packages\\keras\\src\\losses.py\", line 2221, in categorical_crossentropy\n        return backend.categorical_crossentropy(\n    File \"C:\\Users\\DEBASHISH THAKUR\\AppData\\Local\\Programs\\Python\\Python311\\Lib\\site-packages\\keras\\src\\backend.py\", line 5575, in categorical_crossentropy\n        target.shape.assert_is_compatible_with(output.shape)\n\n    ValueError: Shapes (8, 35) and (8, 35, 79) are incompatible\n"
     ]
    }
   ],
   "source": [
    "# Train the model\n",
    "num_epochs = 10  # Number of training epochs\n",
    "batch_size = 8  # Batch size\n",
    "\n",
    "history = model.fit(\n",
    "    [X_train, y_train_inputs],  # Input data\n",
    "    y_train_outputs,            # Target data (if available)\n",
    "    validation_data=([X_val, y_val_inputs], y_val_inputs),  # Validation data\n",
    "    epochs=num_epochs,\n",
    "    batch_size=batch_size,\n",
    "    verbose=2  # Set verbosity level\n",
    ")\n"
   ]
  },
  {
   "cell_type": "code",
   "execution_count": null,
   "id": "ac6dc9ab",
   "metadata": {},
   "outputs": [],
   "source": [
    "print(y_train_outputs.shape)\n",
    "print(X_train.shape)\n",
    "print(X_val.shape)\n",
    "print(X_test.shape)\n",
    "print(y_train_inputs.shape)\n",
    "print(y_val_inputs.shape)\n",
    "print(y_test_inputs.shape)"
   ]
  },
  {
   "cell_type": "code",
   "execution_count": null,
   "id": "2683d30c",
   "metadata": {},
   "outputs": [],
   "source": [
    "X_train\n"
   ]
  },
  {
   "cell_type": "code",
   "execution_count": null,
   "id": "b63b0ca5",
   "metadata": {},
   "outputs": [],
   "source": [
    "y_train_inputs"
   ]
  },
  {
   "cell_type": "code",
   "execution_count": null,
   "id": "b784e294",
   "metadata": {},
   "outputs": [],
   "source": [
    "y_train_outputs.shape"
   ]
  },
  {
   "cell_type": "code",
   "execution_count": null,
   "id": "bae8ddef",
   "metadata": {},
   "outputs": [],
   "source": [
    "y_val_outputs"
   ]
  },
  {
   "cell_type": "code",
   "execution_count": null,
   "id": "bfd125ec",
   "metadata": {},
   "outputs": [],
   "source": []
  },
  {
   "cell_type": "code",
   "execution_count": null,
   "id": "7b24c253",
   "metadata": {},
   "outputs": [],
   "source": []
  }
 ],
 "metadata": {
  "kernelspec": {
   "display_name": "venv",
   "language": "python",
   "name": "venv"
  },
  "language_info": {
   "codemirror_mode": {
    "name": "ipython",
    "version": 3
   },
   "file_extension": ".py",
   "mimetype": "text/x-python",
   "name": "python",
   "nbconvert_exporter": "python",
   "pygments_lexer": "ipython3",
   "version": "3.11.3"
  }
 },
 "nbformat": 4,
 "nbformat_minor": 5
}
